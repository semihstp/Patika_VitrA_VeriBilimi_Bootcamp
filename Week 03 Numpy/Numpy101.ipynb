{
  "nbformat": 4,
  "nbformat_minor": 0,
  "metadata": {
    "colab": {
      "name": "Numpy101.ipynb",
      "provenance": [],
      "collapsed_sections": []
    },
    "kernelspec": {
      "name": "python3",
      "display_name": "Python 3"
    },
    "language_info": {
      "name": "python"
    }
  },
  "cells": [
    {
      "cell_type": "markdown",
      "metadata": {
        "id": "dUpPiCaFn2EH"
      },
      "source": [
        "---\n",
        "## Veri Bilimi Patika'sı Python-Numpy eğitimi sırasında alınan notlar:"
      ]
    },
    {
      "cell_type": "markdown",
      "metadata": {
        "id": "6wMfZuM3I9XA"
      },
      "source": [
        "Hızlı bir şekilde numerik işlemler yapabilmek için kullanılmaktadır. Numpy kütüphanesi C dilinde yazılmıştır ve C dili makine diline daha yakın olduğu için daha hızlı işlemler yapabilmektedir."
      ]
    },
    {
      "cell_type": "markdown",
      "metadata": {
        "id": "4387ck5yMEFf"
      },
      "source": [
        "> List to Numpy:\n",
        "Liste heterojen olmamalıdır. Yani bir değer int ise diğerleri de int olmalı, float olmamalıdır. Eğer int değerler içeren bir array'e float değer eklersek hata vermez ancak numpy array'imizin tipi artık float olur. (Yani array'in sahip olduğu diğer int değerler de float'a dönüştürülüp tek tip kuralı sağlanmış olunur.)"
      ]
    },
    {
      "cell_type": "code",
      "metadata": {
        "id": "Rw0-AE_mMV6T"
      },
      "source": [
        "import numpy as np"
      ],
      "execution_count": null,
      "outputs": []
    },
    {
      "cell_type": "code",
      "metadata": {
        "colab": {
          "base_uri": "https://localhost:8080/"
        },
        "id": "n5KpNk8RIaKf",
        "outputId": "03291273-3919-4340-e213-38db9ccffaa3"
      },
      "source": [
        "liste = [1, 2, 3, 4, 5]\n",
        "x = np.array(liste)\n",
        "print(f\"x verisinin tipi: {type(x)}\")"
      ],
      "execution_count": null,
      "outputs": [
        {
          "output_type": "stream",
          "text": [
            "x verisinin tipi: <class 'numpy.ndarray'>\n"
          ],
          "name": "stdout"
        }
      ]
    },
    {
      "cell_type": "markdown",
      "metadata": {
        "id": "qLl0D_cF755b"
      },
      "source": [
        "Bir ön bilgi olarak scalar, vector, matrix ve tensor terimlerini bir görsel ile pekiştirerek başlayalım:\n",
        "\n",
        "![](https://miro.medium.com/max/800/1*HWmB3HjI6rDY9ayRDGd5zw.png)"
      ]
    },
    {
      "cell_type": "markdown",
      "metadata": {
        "id": "BwEsAVLxOp2c"
      },
      "source": [
        "---\n",
        "### 1) Numpy Array"
      ]
    },
    {
      "cell_type": "markdown",
      "metadata": {
        "id": "jglTij9iNhvT"
      },
      "source": [
        "Eğer int ve float olarak veri tiplerini verirsek int değerler otomatik olarak float'a çevrilir ve tek tip olarak alınır. Type'ını bastırdığımızda ise numpy.ndarray gelir.\n",
        "\n",
        "numpy.ndarray → numpy.n dimension array"
      ]
    },
    {
      "cell_type": "code",
      "metadata": {
        "colab": {
          "base_uri": "https://localhost:8080/"
        },
        "id": "mHiHGAz0Mtuw",
        "outputId": "6e81f717-fd13-41c8-8c31-0fa62960369a"
      },
      "source": [
        "hatali_liste = [1, 1.1, 2, 2.1, 3]\n",
        "x = np.array(hatali_liste)\n",
        "print(f\"x verisinin tipi: {type(x)}\")"
      ],
      "execution_count": null,
      "outputs": [
        {
          "output_type": "stream",
          "text": [
            "x verisinin tipi: <class 'numpy.ndarray'>\n"
          ],
          "name": "stdout"
        }
      ]
    },
    {
      "cell_type": "code",
      "metadata": {
        "colab": {
          "base_uri": "https://localhost:8080/"
        },
        "id": "u9LINPoONDW2",
        "outputId": "f902e227-2fbe-4244-e4e6-3dc456d3f0eb"
      },
      "source": [
        "print(x)"
      ],
      "execution_count": null,
      "outputs": [
        {
          "output_type": "stream",
          "text": [
            "[1.  1.1 2.  2.1 3. ]\n"
          ],
          "name": "stdout"
        }
      ]
    },
    {
      "cell_type": "markdown",
      "metadata": {
        "id": "x4WEpE0-NuJz"
      },
      "source": [
        "Aynı şekilde eğer şöyle bir liste veriyor olsaydım : \n",
        "```python\n",
        "liste = [1, 2, 3, \"a\"]\n",
        "```\n",
        "Bu sefer listedeki tüm elemanlar bir string değer gibi ele alınacaktı."
      ]
    },
    {
      "cell_type": "markdown",
      "metadata": {
        "id": "9X61zhZSOvms"
      },
      "source": [
        "---\n",
        "### 2) Array'lere Manuel Tip Verme"
      ]
    },
    {
      "cell_type": "markdown",
      "metadata": {
        "id": "RhFjnNe2PJfJ"
      },
      "source": [
        "Eğer yukarıdaki gibi veri tipinin otomatik olarak belirlenmesini değil de kendimizin verdiği bir veri tipi olmasını istiyorsak manuel olarak da veri tipi belirtebiliyoruz. Bunun için dtype parametresini kullanmak yeterlidir. Sık kullanılan veri tipleri ise \"int32\", \"str\", \"bool\" etc."
      ]
    },
    {
      "cell_type": "code",
      "metadata": {
        "id": "rAa1MKJ0NF_E"
      },
      "source": [
        "# int32 veri tipinde\n",
        "int_np_array = np.array([1, 2, 3], dtype=\"int32\")\n",
        "\n",
        "# str veri tipinde\n",
        "str_np_array = np.array([1, 2, 3], dtype=\"str\")"
      ],
      "execution_count": null,
      "outputs": []
    },
    {
      "cell_type": "markdown",
      "metadata": {
        "id": "-pdqCrnpQXmL"
      },
      "source": [
        "---\n",
        "### 3) Zero Array"
      ]
    },
    {
      "cell_type": "markdown",
      "metadata": {
        "id": "cPGw7W686Lyb"
      },
      "source": [
        "Öncelikle biraz da komik bir görsel ile ```0``` ve ```Null``` değerin birbirinden nasıl farklı olduğunu anlamaya çalışalım:\n",
        "\n",
        "![](https://user-images.githubusercontent.com/56072259/126801750-67af4ee5-4b4d-411e-b041-dc1e168f6710.jpg)\n",
        "\n",
        "Anlaşılabileceği üzere 0 istenilen o şeyin bir integer değer olarak 0 olduğunu gösterirken Null değeri o değerin var olmadığını göstermektedir."
      ]
    },
    {
      "cell_type": "markdown",
      "metadata": {
        "id": "03aN6BTTQiQA"
      },
      "source": [
        "Sadece 0'lardan oluşan bir array oluşturalım:"
      ]
    },
    {
      "cell_type": "code",
      "metadata": {
        "colab": {
          "base_uri": "https://localhost:8080/"
        },
        "id": "Mw00gFE9Pqzc",
        "outputId": "c0c2919f-df64-49a6-96ee-28d7f25af5a3"
      },
      "source": [
        "np.zeros(10)\n",
        "# Veri tipi belirtmediğimiz için otomatik olarak float olarak alacaktır."
      ],
      "execution_count": null,
      "outputs": [
        {
          "output_type": "execute_result",
          "data": {
            "text/plain": [
              "array([0., 0., 0., 0., 0., 0., 0., 0., 0., 0.])"
            ]
          },
          "metadata": {
            "tags": []
          },
          "execution_count": 11
        }
      ]
    },
    {
      "cell_type": "markdown",
      "metadata": {
        "id": "_9ilQ7n_RGjw"
      },
      "source": [
        "String veri tipinde 10 adet zero oluşturursak çıktı nasıl olur:"
      ]
    },
    {
      "cell_type": "code",
      "metadata": {
        "colab": {
          "base_uri": "https://localhost:8080/"
        },
        "id": "3y0ozouJQvHv",
        "outputId": "e4298054-e54f-4524-ab82-da7395357d3d"
      },
      "source": [
        "np.zeros(10, dtype=\"str\")"
      ],
      "execution_count": null,
      "outputs": [
        {
          "output_type": "execute_result",
          "data": {
            "text/plain": [
              "array(['', '', '', '', '', '', '', '', '', ''], dtype='<U1')"
            ]
          },
          "metadata": {
            "tags": []
          },
          "execution_count": 12
        }
      ]
    },
    {
      "cell_type": "markdown",
      "metadata": {
        "id": "h4AuBTefRS4G"
      },
      "source": [
        "Şimdi multidimensional array oluşturalım:"
      ]
    },
    {
      "cell_type": "code",
      "metadata": {
        "colab": {
          "base_uri": "https://localhost:8080/"
        },
        "id": "x9tJfT-HQrYi",
        "outputId": "b5d97c0f-4c95-46d4-f088-2075c4cba2d3"
      },
      "source": [
        "# 3 rows and 4 columns\n",
        "np.zeros((3, 4)) # liste gibi de verebilirdik : np.zeros([3, 4]) "
      ],
      "execution_count": null,
      "outputs": [
        {
          "output_type": "execute_result",
          "data": {
            "text/plain": [
              "array([[0., 0., 0., 0.],\n",
              "       [0., 0., 0., 0.],\n",
              "       [0., 0., 0., 0.]])"
            ]
          },
          "metadata": {
            "tags": []
          },
          "execution_count": 13
        }
      ]
    },
    {
      "cell_type": "code",
      "metadata": {
        "colab": {
          "base_uri": "https://localhost:8080/"
        },
        "id": "xEG1KEEaRN7d",
        "outputId": "3795a659-4980-4e2c-f0f9-b8911ae05fbf"
      },
      "source": [
        "# (how_many_layer, rows, columns)\n",
        "np.zeros((4, 2, 3))"
      ],
      "execution_count": null,
      "outputs": [
        {
          "output_type": "execute_result",
          "data": {
            "text/plain": [
              "array([[[0., 0., 0.],\n",
              "        [0., 0., 0.]],\n",
              "\n",
              "       [[0., 0., 0.],\n",
              "        [0., 0., 0.]],\n",
              "\n",
              "       [[0., 0., 0.],\n",
              "        [0., 0., 0.]],\n",
              "\n",
              "       [[0., 0., 0.],\n",
              "        [0., 0., 0.]]])"
            ]
          },
          "metadata": {
            "tags": []
          },
          "execution_count": 17
        }
      ]
    },
    {
      "cell_type": "markdown",
      "metadata": {
        "id": "dPBJFbPUSJCz"
      },
      "source": [
        "Örneğin array'imiz 3 boyutlu olsaydı renkli bir resim diyebilirdik. (RGB gibi)"
      ]
    },
    {
      "cell_type": "markdown",
      "metadata": {
        "id": "FYbBgx3dma50"
      },
      "source": [
        "---\n",
        "### 4) Belirli Elemandan Oluşan Array Yaratmak"
      ]
    },
    {
      "cell_type": "markdown",
      "metadata": {
        "id": "IzGyC4iIm5pL"
      },
      "source": [
        "Bir öncesinde sadece sıfırlardan oluşan bir array oluşturmayı öğrenmiştik. Şimdi ise sıfır yerine istediğimiz herhangi bir değerden oluşan  array yapmayı görelim. Bunun için ```np.full()``` ifadesini kullanacağız.\n",
        "```python\n",
        "np.full(shape=(row, column), fill_value=spesific_value, dtype=...)\n",
        "```\n",
        "\n",
        "\n",
        "*   Bu spesifik değeristediğimiz herhangi bir veri tipinden olabilir.\n",
        "\n"
      ]
    },
    {
      "cell_type": "code",
      "metadata": {
        "id": "t8DN23OMRzUt",
        "colab": {
          "base_uri": "https://localhost:8080/"
        },
        "outputId": "279932b2-44c0-43cf-826e-f3c32212c323"
      },
      "source": [
        "np.full((4,5),3)"
      ],
      "execution_count": null,
      "outputs": [
        {
          "output_type": "execute_result",
          "data": {
            "text/plain": [
              "array([[3, 3, 3, 3, 3],\n",
              "       [3, 3, 3, 3, 3],\n",
              "       [3, 3, 3, 3, 3],\n",
              "       [3, 3, 3, 3, 3]])"
            ]
          },
          "metadata": {
            "tags": []
          },
          "execution_count": 3
        }
      ]
    },
    {
      "cell_type": "markdown",
      "metadata": {
        "id": "7l5R8_RoqGa7"
      },
      "source": [
        "NOT:\n",
        "\n",
        "```python\n",
        "np.full(2, 3)\n",
        ">>> np.array(3,3)\n",
        "```\n",
        "olmasının sebebi aslında bizim full fonksiyonunu şöyle kullanıyor oluşumuzdan kaynaklıdır: ``` np.full(shape=(2), fill_value=3) ``` olmasıdır. Yani Numpy'a, \"Bana 3'lerden oluşan 2 uzunluğunda bir array döndür\" demiş olduk."
      ]
    },
    {
      "cell_type": "markdown",
      "metadata": {
        "id": "xbhgUQI230xU"
      },
      "source": [
        "---\n",
        "### 5) Ardışık Sayılardan Oluşan Array Oluşturmak (Consequtive Numbers Array)"
      ]
    },
    {
      "cell_type": "markdown",
      "metadata": {
        "id": "3h3EMIMy6UfI"
      },
      "source": [
        "Ardışık sayılardan oluşan bir array oluşturmak istediğimde ise ```np.arange()``` kullanabiliriz. Aynı Python'daki range gibidir.\n",
        "```\n",
        "*   for i in range(12) \n",
        "-> [0, 1, ... , 11] 0-11 arası 12 dahil değil [0,12)\n",
        "*   np.arange(0,12)\n",
        "-> [0, 1, ... , 11] 0-11 arası 12 dahil değil [0,12)\n",
        "```"
      ]
    },
    {
      "cell_type": "code",
      "metadata": {
        "colab": {
          "base_uri": "https://localhost:8080/"
        },
        "id": "hUOJW9RUp-ez",
        "outputId": "b6a5c4a6-881d-4bef-8e1e-0ed5d2a9217a"
      },
      "source": [
        "np.arange(0, 12)"
      ],
      "execution_count": null,
      "outputs": [
        {
          "output_type": "execute_result",
          "data": {
            "text/plain": [
              "array([ 0,  1,  2,  3,  4,  5,  6,  7,  8,  9, 10, 11])"
            ]
          },
          "metadata": {
            "tags": []
          },
          "execution_count": 15
        }
      ]
    },
    {
      "cell_type": "code",
      "metadata": {
        "colab": {
          "base_uri": "https://localhost:8080/"
        },
        "id": "7jCCmQaZ7v6n",
        "outputId": "9112dc42-cede-4eef-b810-784c8eec24a0"
      },
      "source": [
        "# aynı python range'deki gibi adım aralıklarını da verebiliriz:\n",
        "np.arange(0,12,2)"
      ],
      "execution_count": null,
      "outputs": [
        {
          "output_type": "execute_result",
          "data": {
            "text/plain": [
              "array([ 0,  2,  4,  6,  8, 10])"
            ]
          },
          "metadata": {
            "tags": []
          },
          "execution_count": 16
        }
      ]
    },
    {
      "cell_type": "markdown",
      "metadata": {
        "id": "GPU6X_Ij73t9"
      },
      "source": [
        "---\n",
        "### 6) Bir Aralığı Belirli Sayıda Noktaya Bölmek (Dividing Interval)"
      ]
    },
    {
      "cell_type": "markdown",
      "metadata": {
        "id": "cRnCbLfnAdBx"
      },
      "source": [
        "Belirlenen başlangıç bitiş değerine göre başlangıç ve bitiş de dahil olacak şekilde array'i eşit uzaklıkta noktalara bölmeyi göreceğiz. Bu işlemi ```np.linspace()``` ile gerçekleştireceğiz. Parametreleri ise : ```np.linspace(start, stop, num, endpoint)``` şeklindedir. Üçüncü parametre default olarak 50'dir. Dördüncü parametre ise bitiş noktasının dahil olup olmayacağını bize sorar. True veya False değer alır. "
      ]
    },
    {
      "cell_type": "code",
      "metadata": {
        "colab": {
          "base_uri": "https://localhost:8080/"
        },
        "id": "WXH9JP2472dQ",
        "outputId": "8029fa44-2bdf-47e0-d751-d211cb3cf187"
      },
      "source": [
        "np.linspace(0,5)"
      ],
      "execution_count": null,
      "outputs": [
        {
          "output_type": "execute_result",
          "data": {
            "text/plain": [
              "array([0.        , 0.10204082, 0.20408163, 0.30612245, 0.40816327,\n",
              "       0.51020408, 0.6122449 , 0.71428571, 0.81632653, 0.91836735,\n",
              "       1.02040816, 1.12244898, 1.2244898 , 1.32653061, 1.42857143,\n",
              "       1.53061224, 1.63265306, 1.73469388, 1.83673469, 1.93877551,\n",
              "       2.04081633, 2.14285714, 2.24489796, 2.34693878, 2.44897959,\n",
              "       2.55102041, 2.65306122, 2.75510204, 2.85714286, 2.95918367,\n",
              "       3.06122449, 3.16326531, 3.26530612, 3.36734694, 3.46938776,\n",
              "       3.57142857, 3.67346939, 3.7755102 , 3.87755102, 3.97959184,\n",
              "       4.08163265, 4.18367347, 4.28571429, 4.3877551 , 4.48979592,\n",
              "       4.59183673, 4.69387755, 4.79591837, 4.89795918, 5.        ])"
            ]
          },
          "metadata": {
            "tags": []
          },
          "execution_count": 17
        }
      ]
    },
    {
      "cell_type": "code",
      "metadata": {
        "colab": {
          "base_uri": "https://localhost:8080/"
        },
        "id": "1g1RxzfxBbKD",
        "outputId": "778f0b4b-7456-4901-c328-55f8b823ded6"
      },
      "source": [
        "np.linspace(0, 5, num=4, endpoint=False)"
      ],
      "execution_count": null,
      "outputs": [
        {
          "output_type": "execute_result",
          "data": {
            "text/plain": [
              "array([0.  , 1.25, 2.5 , 3.75])"
            ]
          },
          "metadata": {
            "tags": []
          },
          "execution_count": 18
        }
      ]
    },
    {
      "cell_type": "markdown",
      "metadata": {
        "id": "5O7kHsOCCLdq"
      },
      "source": [
        "---\n",
        "### 7) Normal Distribution(dağılım)'dan Örneklem Almak (Normal Distribution Array)"
      ]
    },
    {
      "cell_type": "markdown",
      "metadata": {
        "id": "oyo29WBeDnre"
      },
      "source": [
        "Normal distribution'dan çekilen sayılarla bir array oluşturmaya çalışacağız. Bunun için ```np.random.normal()``` kullanacağız. Parametre sırası ise ortalama, standart sapma ve boyut bilgisidir:\n",
        "```np.random.normal(loc, scale, size)```\n",
        "\n"
      ]
    },
    {
      "cell_type": "code",
      "metadata": {
        "colab": {
          "base_uri": "https://localhost:8080/"
        },
        "id": "-idJnHPGCGNm",
        "outputId": "03b29078-c76b-44df-9d32-056d1280a7e5"
      },
      "source": [
        "np.random.normal(0, 2, 4)"
      ],
      "execution_count": null,
      "outputs": [
        {
          "output_type": "execute_result",
          "data": {
            "text/plain": [
              "array([-0.3664179 , -1.40793742, -1.60577807,  3.55299533])"
            ]
          },
          "metadata": {
            "tags": []
          },
          "execution_count": 19
        }
      ]
    },
    {
      "cell_type": "markdown",
      "metadata": {
        "id": "OZm9_db3IUA0"
      },
      "source": [
        "---\n",
        "### 8) Random Integer'lardan Oluşan Array Oluşturmak"
      ]
    },
    {
      "cell_type": "markdown",
      "metadata": {
        "id": "b7FGHOLJIW5d"
      },
      "source": [
        "Integer değerlerden ve belirtilen aralıklar arasından oluşan değerler ile yine belirtilen boyutlarda array oluşturma işlemidir. ``` np.random.randint()``` kullanarak bu işlemi gerçekleştirebilmekteyiz. Aldığı parametreler ise :\n",
        "``` np.random.randint(low, high, size) ``` şeklindedir. Olası değerler olarak ise **[low, high)** aralığı yer almaktadır.\n"
      ]
    },
    {
      "cell_type": "code",
      "metadata": {
        "colab": {
          "base_uri": "https://localhost:8080/"
        },
        "id": "UoIYC_ndFETs",
        "outputId": "28449e32-95b8-459d-c5b9-ac4711621d10"
      },
      "source": [
        "np.random.randint(1, 5, size=(2,3,4))"
      ],
      "execution_count": null,
      "outputs": [
        {
          "output_type": "execute_result",
          "data": {
            "text/plain": [
              "array([[[3, 1, 3, 1],\n",
              "        [1, 1, 1, 4],\n",
              "        [1, 4, 1, 4]],\n",
              "\n",
              "       [[1, 1, 1, 4],\n",
              "        [2, 2, 3, 4],\n",
              "        [1, 2, 3, 1]]])"
            ]
          },
          "metadata": {
            "tags": []
          },
          "execution_count": 18
        }
      ]
    },
    {
      "cell_type": "markdown",
      "metadata": {
        "id": "aasPLMMtSL78"
      },
      "source": [
        "Peki gerçekten normal distribution'a göre bir dağılım söz konusu mu? Bunu görmek adına şöyle bir çalışma gerçekleştirelim ve 20_000 verinin nasıl dağıldığına göz atalım :"
      ]
    },
    {
      "cell_type": "code",
      "metadata": {
        "colab": {
          "base_uri": "https://localhost:8080/"
        },
        "id": "xZtnpxuwPlnj",
        "outputId": "e34e5932-f464-4de0-d491-52bd96f35b81"
      },
      "source": [
        "#1-11 arası değerleri ve bunların kaç defa geçtiğini gösterebilmek adına bir sözlük oluşturuldu.\n",
        "rastlantı_sozlugu = {}\n",
        "\n",
        "# 20bin defa random değer almak için for kullanıldı. İterasyon bilgisi önemli olmadığı için \n",
        "# bir değişkene atamak yerine alt çizgi ile ifade edildi. \n",
        "for _ in range(20_000):\n",
        "  val = np.random.randint(1, 11)\n",
        "\n",
        "  # Eğer daha önce karşılaşmadığı bir değer ise sözlüğün key kısmına o değeri ekledi ve \n",
        "  #ilk defa karşılaştığı için 1'e eşitledi.\n",
        "  if val not in rastlantı_sozlugu:\n",
        "    rastlantı_sozlugu[val] = 1\n",
        "  # Eğer daha önce karşılaştı ise o değerin olduğu sözlük yapısındaki value değerini 1 arttırdı.\n",
        "  else:\n",
        "    rastlantı_sozlugu[val] += 1\n",
        "\n",
        "# Ayrıca key'leri sözlüğe karşılaştığı sıra ile koyduğu için bunun yerine key değerlerini küçükten\n",
        "# büyüğe doğru sıralayalım ve 1-10'a doğru giden key-value sözlüğünü elde edelim:\n",
        "for key in sorted(rastlantı_sozlugu):\n",
        "    print(key, rastlantı_sozlugu[key])"
      ],
      "execution_count": null,
      "outputs": [
        {
          "output_type": "stream",
          "text": [
            "1 2009\n",
            "2 2033\n",
            "3 2007\n",
            "4 1984\n",
            "5 1951\n",
            "6 1985\n",
            "7 2035\n",
            "8 1957\n",
            "9 2011\n",
            "10 2028\n"
          ],
          "name": "stdout"
        }
      ]
    },
    {
      "cell_type": "markdown",
      "metadata": {
        "id": "C1pKsO8oVH9T"
      },
      "source": [
        "Görülebileceği üzere normal distribution üç aşağı beş yukarı elde edilebilmiştir.\n",
        "\n",
        "**NOT:** Farklı dağılımlardaki değerlerden oluşan array'ler de oluşturabiliriz. Örneğin binomial dağılım için ```np.random.binomial()``` fonksiyonunu kullanabiliriz.  "
      ]
    },
    {
      "cell_type": "markdown",
      "metadata": {
        "id": "SOW1rHeiVNof"
      },
      "source": [
        "---\n",
        "### 9) Identity (Birim) Matrix"
      ]
    },
    {
      "cell_type": "markdown",
      "metadata": {
        "id": "tskCqLAIdddG"
      },
      "source": [
        "Identity matrix, matrisin köşeden köeşeye olan değerlerinin 1, diğer tüm değerlerin sıfır olması durumudur. Bu işlemi ``` np.eye() ``` fonksiyonu yardımıyla yapabilmekteyiz. Aynı çarpmada 1'in etkisiz eleman olduğu gibi burada da bu etkisiz eleman işlevi görür. Parametreleri ise ``` np.eye(N, M) ``` şeklindedir. İlk parametre olan N row sayısını verirken ikinci parametre olan M ise column sayısını verir."
      ]
    },
    {
      "cell_type": "code",
      "metadata": {
        "colab": {
          "base_uri": "https://localhost:8080/"
        },
        "id": "7po73kTiToTt",
        "outputId": "7dfa4c25-9e5c-4b63-ada6-5d5eda41c79b"
      },
      "source": [
        "np.eye(4, 5)"
      ],
      "execution_count": null,
      "outputs": [
        {
          "output_type": "execute_result",
          "data": {
            "text/plain": [
              "array([[1., 0., 0., 0., 0.],\n",
              "       [0., 1., 0., 0., 0.],\n",
              "       [0., 0., 1., 0., 0.],\n",
              "       [0., 0., 0., 1., 0.]])"
            ]
          },
          "metadata": {
            "tags": []
          },
          "execution_count": 27
        }
      ]
    },
    {
      "cell_type": "markdown",
      "metadata": {
        "id": "qera29oHfkpM"
      },
      "source": [
        "---\n",
        "### 10) Array Operations"
      ]
    },
    {
      "cell_type": "markdown",
      "metadata": {
        "id": "O7cxs330foHM"
      },
      "source": [
        "Numpy numerik hesaplamalar için özelleşmiş bir kütüphane olduğu için listelerden farklı olarak çarpım ve toplam işlemlerini elemanlar seviyesinde (element wise) yapabilmektedir. Yani iki array'i çarptığımızı düşünürsek array'lerin ilk elemanları kendi arasında ikinci elemanları kendi arasında çarpılır. Dolayısıyla iki array'in çarpımından elde edilecek array de aynı shape'e sahip olacaktır. Burada dikkat edilmesi gereken husus iki array'in de aynı shape'e sahip olması gerektiğidir. Her zamanki ```+, *, -, /, **, %``` vb. operatörleriyle işlemler de gerçekleştirebilmekteyiz. Bunun yanı sıra herhangi bir sayısal değerle de array'i direkt olarak çarpabiliriz.\n",
        "\n"
      ]
    },
    {
      "cell_type": "code",
      "metadata": {
        "colab": {
          "base_uri": "https://localhost:8080/"
        },
        "id": "CgtqNci6fMvY",
        "outputId": "2899a0f6-775c-46c9-fcdb-a1cd1fbba4a8"
      },
      "source": [
        "x = np.array([1, 2, 3])\n",
        "y = ([10, 100, 1000])\n",
        "\n",
        "print(x*y)"
      ],
      "execution_count": null,
      "outputs": [
        {
          "output_type": "stream",
          "text": [
            "[  10  200 3000]\n"
          ],
          "name": "stdout"
        }
      ]
    },
    {
      "cell_type": "markdown",
      "metadata": {
        "id": "2Y1QqGM55NA9"
      },
      "source": [
        "---\n",
        "### 11) Array Attribute"
      ]
    },
    {
      "cell_type": "markdown",
      "metadata": {
        "id": "zg17wUM_5s9k"
      },
      "source": [
        "Oluşturulan array'ler hakkında bilgi edinme işlemlerini ele alacağız. Örneğin ```arr``` adında bir array'imiz olsun.\n",
        "\n",
        "*   ```arr.shape:``` Array'in dimension bilgilerini döndürür. Yani kaça kaçlık bir array olduğunu söyler.\n",
        "*   ```arr.ndim:``` Array'in kaç dimension'dan oluştuğunun bilgisini verir.\n",
        "*   ```arr.size:``` Array'in toplam kaç elemanı olduğunu söyler. Başka bir ifadeyle shape() bilgisinden dönen rakamların çarpımıdır.\n",
        "*   ```arr.dtype:``` Array'deki elemanların hangi veri tipine ait olduğunu söyler. Array'ler homojen tiplerden oluşmak zorunda oldukları için tüm veriler için tek bir type bilgisi döndürür.\n",
        "\n"
      ]
    },
    {
      "cell_type": "code",
      "metadata": {
        "colab": {
          "base_uri": "https://localhost:8080/"
        },
        "id": "OUQ4-aWj4ahJ",
        "outputId": "bd5d093a-aa5f-411a-8931-657606991dac"
      },
      "source": [
        "x = np.array([1, 2, 3])\n",
        "print(\n",
        "  f\"\"\"\n",
        "  Array'in shape bilgisi: {x.shape}\\n \n",
        "  Array'in dimension bilgisi: {x.ndim}\\n \n",
        "  Array'in size bilgisi: {x.size}\\n\n",
        "  Array'in elemanlarının type bilgisi: {x.dtype}\n",
        "  \"\"\")"
      ],
      "execution_count": null,
      "outputs": [
        {
          "output_type": "stream",
          "text": [
            "\n",
            "    Array'in shape bilgisi: (3,)\n",
            " \n",
            "    Array'in dimension bilgisi: 1\n",
            " \n",
            "    Array'in size bilgisi: 3\n",
            "\n",
            "    Array'in elemanlarının type bilgisi: int64\n",
            "    \n"
          ],
          "name": "stdout"
        }
      ]
    },
    {
      "cell_type": "markdown",
      "metadata": {
        "id": "iy9ZQueq75t5"
      },
      "source": [
        "---\n",
        "### 12) Reshape"
      ]
    },
    {
      "cell_type": "markdown",
      "metadata": {
        "id": "OhLkYSo2IuFz"
      },
      "source": [
        "Eleman sayısı sabit kaldığı sürece o elemanları başka başka şekillerde (yani satır ve sütun sayılarında) ifade edebilmekteyiz. Bunun için ```arr.reshape()``` kullanmaktayız. Ancak bunu yaptığımızda ```arr``` array'i güncellenmemektedir. Yani eğer bu işlem orijinal array üzerinde bir değişiklik yapmaz."
      ]
    },
    {
      "cell_type": "code",
      "metadata": {
        "colab": {
          "base_uri": "https://localhost:8080/"
        },
        "id": "iLooaPqT77l5",
        "outputId": "0ca43b83-9f12-4c5a-bcd3-999d65f3e3e8"
      },
      "source": [
        "arr = np.full((3,4), 5)\n",
        "\n",
        "reshaped_arr = arr.reshape((2,6))\n",
        "\n",
        "print(reshaped_arr)"
      ],
      "execution_count": null,
      "outputs": [
        {
          "output_type": "stream",
          "text": [
            "[[5 5 5 5 5 5]\n",
            " [5 5 5 5 5 5]]\n"
          ],
          "name": "stdout"
        }
      ]
    },
    {
      "cell_type": "markdown",
      "metadata": {
        "id": "3G_MvGRWKDDS"
      },
      "source": [
        "**NOT:** Eğer dimension reshape işleminde bir dimension belli ve diğerini de bilinen dimension'dan çıkarmak istiyorsak bu işlem için ```np.reshape()```'e parametre olarak ```-1``` verebilmekteyiz. "
      ]
    },
    {
      "cell_type": "code",
      "metadata": {
        "colab": {
          "base_uri": "https://localhost:8080/"
        },
        "id": "gwJTGykrJOb1",
        "outputId": "06bdf11c-b3fd-4721-bb4b-4434b50a2777"
      },
      "source": [
        "arr = np.random.randint(1, 5, (4,3))\n",
        "\n",
        "print(arr.reshape(-1, 6)) #-1 sayesinde numpy bunun 2 olduğunu kendisi bulup\n",
        "# ona göre işlem yapacaktır. "
      ],
      "execution_count": null,
      "outputs": [
        {
          "output_type": "stream",
          "text": [
            "[[4 4 2 1 3 3]\n",
            " [2 1 3 3 1 2]]\n"
          ],
          "name": "stdout"
        }
      ]
    },
    {
      "cell_type": "markdown",
      "metadata": {
        "id": "1ReLwezmK96W"
      },
      "source": [
        "**NOT:** Yeni bir boyut yani ndimension eklemek için ise ```np.newaxis``` komutunu kullanmamız gerekmektedir:"
      ]
    },
    {
      "cell_type": "code",
      "metadata": {
        "colab": {
          "base_uri": "https://localhost:8080/"
        },
        "id": "VnsAZHVwKlsG",
        "outputId": "ecb4e3cb-f507-46a6-9dc0-ad3fac7af04c"
      },
      "source": [
        "arr = np.random.randint(1, 5, (4,3))\n",
        "\n",
        "print(f\"Array'in normal shape bilgisi: {arr.shape}\")\n",
        "#Geride iki dimension kaldığı için iki adet \":\" kullandım.\n",
        "print(f\"Boyutu değiştirilmiş ve başınaa axis array'in shape bilgisi : {arr[np.newaxis, :,:].shape}\")\n",
        "print(f\"Boyutu değiştirilmiş ve sonuna axis array'in shape bilgisi : {arr[:,:, np.newaxis].shape}\")\n",
        "print(f\"Boyutu değiştirilmiş ve hem başına hem sonuna axis array'in shape bilgisi : {arr[np.newaxis, :,:, np.newaxis].shape}\")"
      ],
      "execution_count": null,
      "outputs": [
        {
          "output_type": "stream",
          "text": [
            "Array'in normal shape bilgisi: (4, 3)\n",
            "Boyutu değiştirilmiş ve başınaa axis array'in shape bilgisi : (1, 4, 3)\n",
            "Boyutu değiştirilmiş ve sonuna axis array'in shape bilgisi : (4, 3, 1)\n",
            "Boyutu değiştirilmiş ve hem başına hem sonuna axis array'in shape bilgisi : (1, 4, 3, 1)\n"
          ],
          "name": "stdout"
        }
      ]
    },
    {
      "cell_type": "markdown",
      "metadata": {
        "id": "ANGtBG3yNZuE"
      },
      "source": [
        "**NOT:** ```np.newaxis``` demek ile ```None``` demek aynı şeydir. Yeni bir axis eklediğimizde de boş eklediğimiz için şu şekilde kullanımlar da mevcuttur : \n",
        "```python\n",
        "arr[np.newaxis, :,:] # esittir = arr[None, :,:]\n",
        "```"
      ]
    },
    {
      "cell_type": "markdown",
      "metadata": {
        "id": "oO1NPbjmNyAd"
      },
      "source": [
        "---\n",
        "### 13) Concatenation :"
      ]
    },
    {
      "cell_type": "markdown",
      "metadata": {
        "id": "cSU78fQLOGdk"
      },
      "source": [
        "Listelerde + operatörü ile toplama değil concatenation işlemi yani peşi sırasınca (uç uca) ekleme işlemi yapılırdı. Ancak numpy'da bu operatörün element-wise olarak bir toplama işlemi yaptığından 10. başlıkta bahsetmiştik. Peki numpy'da concatenate işlemini nasıl gerçekleştirebiliriz? Bunun için ```np.concatenate()```'yi kullanabiliriz. Birleştirmede illaki numpy array olmak zorunda değil numpy array ve bir listeyi veya tuple'ı da concatenate edip bir array oluşturabiliriz. Yine aynı şekilde sadece iki tane array'i birleştirmek zorunda da değiliz. Bu sayı 2'den fazla olabilir. Ancak concatenate işlemi sonucunda a veya b güncellenmez. Parametre olarak ise : \n",
        "```\n",
        "np.concatenate([birlestirilecek_ogeler], axis=0) # veya axis=1\n",
        "```\n",
        "olarak gösterebiliriz. Bunun yanı sıra eğer birleştirilen iki nesnede tipler birbirinden farklı ise hata almayız. Bunun yerine hangi veri tipi diğerini kapsarsa numpy direkt onu alır. Örneğin:\n",
        "\n",
        "*   int + float = float\n",
        "*   int + float+ string = string\n",
        "\n",
        "veri tiplerine sahip array'ler oluşur\n",
        "\n"
      ]
    },
    {
      "cell_type": "markdown",
      "metadata": {
        "id": "gydcLUWL7IpR"
      },
      "source": [
        "Koda geçmeden önce ```axis=0``` ve ```axis=1``` ne demektir bunu bir görsel ile pekiştirelim:\n",
        "\n",
        "![](https://i.stack.imgur.com/h1alT.jpg)"
      ]
    },
    {
      "cell_type": "code",
      "metadata": {
        "colab": {
          "base_uri": "https://localhost:8080/"
        },
        "id": "OGHuHQj-L-nt",
        "outputId": "90dc112b-0c0b-43bc-d47f-a7a8ef3bda2a"
      },
      "source": [
        "# bir liste ve iki array tanımlayalım. Ardından bu üçünü birleştirelim.\n",
        "# Üçü de birbirinden farklı veri tiplerine ait olsun:\n",
        "a = [\"a\", \"b\", \"c\"]\n",
        "arr1 = np.array([\"2.2\", \"3.38\"])\n",
        "arr2 = np.random.randint(1,10,3)\n",
        "\n",
        "birlestirilmis_arr = np.concatenate([a, arr1, arr2])\n",
        "\n",
        "print(f\"Birleştirilmiş array : {birlestirilmis_arr}\\nve array tipi : {type(birlestirilmis_arr)}\")"
      ],
      "execution_count": null,
      "outputs": [
        {
          "output_type": "stream",
          "text": [
            "Birleştirilmiş array : ['a' 'b' 'c' '2.2' '3.38' '4' '6' '6']\n",
            "ve array tipi : <class 'numpy.ndarray'>\n"
          ],
          "name": "stdout"
        }
      ]
    },
    {
      "cell_type": "markdown",
      "metadata": {
        "id": "fDCWkhuqRjD7"
      },
      "source": [
        "**NOT:** Concatenate edilecek array'lerin boyutu **aynı değilse** bu durumda hata mesajı ile karşılaşırız.\n"
      ]
    },
    {
      "cell_type": "markdown",
      "metadata": {
        "id": "sy2cRwTcSefE"
      },
      "source": [
        "**NOT**: Concatenate işleminde bir diğer parametre olan axis=0 ve axis=1 kısmını ele alalım. axis=0 olduğu durumlarda row olarak (y ekseninde, dik bir şekilde veya alt alta diyebiliriz) birleştirme işlemi söz konusu iken axis=1 durumlarında column olarak (x ekseninde, yan yana) ekleme yapma durumu söz konusudur."
      ]
    },
    {
      "cell_type": "code",
      "metadata": {
        "colab": {
          "base_uri": "https://localhost:8080/"
        },
        "id": "C2gpUydlRIVl",
        "outputId": "7a4394d5-c4e9-4e94-c0d0-5f81fabf78b1"
      },
      "source": [
        "arr = np.array([[1, 2, 3, 4],\n",
        "                [5, 6, 7, 8]])\n",
        "\n",
        "axis0 = np.concatenate([arr, arr])\n",
        "axis1 = np.concatenate([arr ,arr], axis=1)\n",
        "\n",
        "print(f\"axis=0 olduğunda yapılan birleştirme:\\n{axis0}\\n\")\n",
        "print(f\"axis=1 olduğunda yapılan birleştirme:\\n{axis1}\")"
      ],
      "execution_count": null,
      "outputs": [
        {
          "output_type": "stream",
          "text": [
            "axis=0 olduğunda yapılan birleştirme:\n",
            "[[1 2 3 4]\n",
            " [5 6 7 8]\n",
            " [1 2 3 4]\n",
            " [5 6 7 8]]\n",
            "\n",
            "axis=1 olduğunda yapılan birleştirme:\n",
            "[[1 2 3 4 1 2 3 4]\n",
            " [5 6 7 8 5 6 7 8]]\n"
          ],
          "name": "stdout"
        }
      ]
    },
    {
      "cell_type": "markdown",
      "metadata": {
        "id": "dX5DxQ31h1vF"
      },
      "source": [
        "---\n",
        "### 14) Stack"
      ]
    },
    {
      "cell_type": "markdown",
      "metadata": {
        "id": "vL16gOHLh4Z7"
      },
      "source": [
        "Elimizde iki array olduğunda o iki array'in birleştirilmesi için önce yeni bir dimension ekler ve ardından o dimension üzerinde bir concatenate işlemi gerçekleştirir. Default olarak axis=0 üzerinde işlem yapar. (axis=0 parametresini bölüm 13'te konuşmuştuk.) Kullanacağımız fonksiyon ise ```np.stack([birlestirilecek_ogeler], axis)``` şeklindedir."
      ]
    },
    {
      "cell_type": "code",
      "metadata": {
        "id": "HLkQ9UphTV_D",
        "colab": {
          "base_uri": "https://localhost:8080/"
        },
        "outputId": "f185bc75-9fa3-4498-f660-6f9c83c87de3"
      },
      "source": [
        "arr1 = np.array([1, 2, 3, 4])\n",
        "arr2 = np.array([5, 6, 7, 8])\n",
        "\n",
        "print(f\"axis=0 durumunda stack: \\n{np.stack([arr1, arr2])}\\n\")\n",
        "print(f\"axis=0 durumunda stack: \\n{np.stack([arr1, arr2], axis=1)}\")"
      ],
      "execution_count": null,
      "outputs": [
        {
          "output_type": "stream",
          "text": [
            "axis=0 durumunda stack: \n",
            "[[1 2 3 4]\n",
            " [5 6 7 8]]\n",
            "\n",
            "axis=0 durumunda stack: \n",
            "[[1 5]\n",
            " [2 6]\n",
            " [3 7]\n",
            " [4 8]]\n"
          ],
          "name": "stdout"
        }
      ]
    },
    {
      "cell_type": "markdown",
      "metadata": {
        "id": "D6ed9MUBYLxT"
      },
      "source": [
        "Peki ya **hstack** ve **vstack**? Aslında mantık tamamen aynıdır. hstack horizontally(axis=1) stack'lerken vstack vertically(axis=0) stackleme işlemi yapmaktadır. Axis vermek yerine bunları kullanarak da birleştirme işlemi yapılabilmektedir."
      ]
    },
    {
      "cell_type": "code",
      "metadata": {
        "colab": {
          "base_uri": "https://localhost:8080/"
        },
        "id": "2X52lqMnaEaE",
        "outputId": "e671c6cb-058a-405d-c1f3-42eae50d8621"
      },
      "source": [
        "arr = np.array([1, 2, 3, 4])\n",
        "\n",
        "print(f\"hstack ile stacklenmiş array : \\n{np.hstack([arr, arr])}\\n\")\n",
        "print(f\"hstack ile stacklenmiş array : \\n{np.vstack([arr, arr])}\\n\")"
      ],
      "execution_count": 1,
      "outputs": [
        {
          "output_type": "stream",
          "text": [
            "hstack ile stacklenmiş array : \n",
            "[1 2 3 4 1 2 3 4]\n",
            "\n",
            "hstack ile stacklenmiş array : \n",
            "[[1 2 3 4]\n",
            " [1 2 3 4]]\n",
            "\n"
          ],
          "name": "stdout"
        }
      ]
    },
    {
      "cell_type": "markdown",
      "metadata": {
        "id": "5pe5LVGyXfG0"
      },
      "source": [
        "---\n",
        "### 15) Split"
      ]
    },
    {
      "cell_type": "markdown",
      "metadata": {
        "id": "xm23EAjPXjhv"
      },
      "source": [
        "Elimizdeki array'i belirli aralıklara bölüp öyle ele alma işlemidir. Bunun için ```np.split()``` kullanılmaktadır. Aldığı parametreler ise :\n",
        "```\n",
        "np.split(ary=ayrilacak_array, indices_or_sections=[nereden_ayrılması_istenen_index_bilgileri], axis)\n",
        "```"
      ]
    },
    {
      "cell_type": "code",
      "metadata": {
        "colab": {
          "base_uri": "https://localhost:8080/"
        },
        "id": "DdDeevbwXUSO",
        "outputId": "698ad37a-b54f-4283-9daa-8bd9992bcbef"
      },
      "source": [
        "arr = np.array([1, 2, 3, 4, 5, 6, 7, 8])\n",
        "print(np.split(arr, [1,3]))\n",
        "\n",
        "\"\"\"\n",
        "Split ettiğimiz arrayleri bir değişkene de atayabilirdik:\n",
        "a, b, c = np.split(arr, [1,3])\n",
        "\"\"\""
      ],
      "execution_count": null,
      "outputs": [
        {
          "output_type": "stream",
          "text": [
            "[array([1]), array([2, 3]), array([4, 5, 6, 7, 8])]\n"
          ],
          "name": "stdout"
        }
      ]
    },
    {
      "cell_type": "markdown",
      "metadata": {
        "id": "gCLjVUOeb5sW"
      },
      "source": [
        "Multidimensional bir array'imiz olduğu zaman bunu vsplit (vertical split) veya hsplit(horizontal split) ile bölmek isteyebiliriz."
      ]
    },
    {
      "cell_type": "code",
      "metadata": {
        "colab": {
          "base_uri": "https://localhost:8080/"
        },
        "id": "XB8gSktDbJK2",
        "outputId": "457b6691-7940-46a6-f57f-16473e627c4e"
      },
      "source": [
        "# arr1 = np.arange(24).reshape(4,6) #Farklı şekillerde aynı array'i tanımlayalım:\n",
        "arr1 = np.random.randint(2, 8, [4,6])\n",
        "\n",
        "print(f\"vsplit ile split edilmiş array: \\n{np.vsplit(arr1, [1])}\\n\")\n",
        "print(f\"vsplit ile split edilmiş array: \\n{np.hsplit(arr1, [1])}\")"
      ],
      "execution_count": null,
      "outputs": [
        {
          "output_type": "stream",
          "text": [
            "vsplit ile split edilmiş array: \n",
            "[array([[6, 4, 7, 6, 6, 2]]), array([[7, 6, 7, 5, 5, 5],\n",
            "       [3, 7, 3, 3, 2, 5],\n",
            "       [5, 7, 4, 6, 4, 3]])]\n",
            "\n",
            "vsplit ile split edilmiş array: \n",
            "[array([[6],\n",
            "       [7],\n",
            "       [3],\n",
            "       [5]]), array([[4, 7, 6, 6, 2],\n",
            "       [6, 7, 5, 5, 5],\n",
            "       [7, 3, 3, 2, 5],\n",
            "       [7, 4, 6, 4, 3]])]\n"
          ],
          "name": "stdout"
        }
      ]
    },
    {
      "cell_type": "markdown",
      "metadata": {
        "id": "HxUDcw1JdwXi"
      },
      "source": [
        "Print işlemi biraz karışık oldu. O yüzden burada manuel olarak düzeltip çıktıyı paylaşacağım:\n",
        "\n",
        "```\n",
        "vsplit ile split edilmiş array: \n",
        "[array([[6, 4, 7, 6, 6, 2]]), \n",
        "array([[7, 6, 7, 5, 5, 5],\n",
        "       [3, 7, 3, 3, 2, 5],\n",
        "       [5, 7, 4, 6, 4, 3]])]\n",
        "\n",
        "vsplit ile split edilmiş array: \n",
        "[array([[6],\n",
        "       [7],\n",
        "       [3],\n",
        "       [5]]), \n",
        "array([[4, 7, 6, 6, 2],\n",
        "       [6, 7, 5, 5, 5],\n",
        "       [7, 3, 3, 2, 5],\n",
        "       [7, 4, 6, 4, 3]])]\n",
        "```\n",
        "Görülebileceği üzere aslında iki farklı array oluşturmuş olduk. Bunlardan birini satıra göre diğerini sütuna göre 1.index'ten bölerek oluşturduk."
      ]
    },
    {
      "cell_type": "markdown",
      "metadata": {
        "id": "_TuDLeypdkxg"
      },
      "source": [
        "---\n",
        "### 16) Sorting"
      ]
    },
    {
      "cell_type": "markdown",
      "metadata": {
        "id": "INeOCBePdoPm"
      },
      "source": [
        "Array'in içindeki değerleri sıralamak için kullanılır. ```np.sort()``` ile yapılabilmektedir. Yapılan işlemler orijinal array'de görülmez. Eğer değişikliklerin orijinal array'e yansımasını istersek ```array.sort()``` dememiz gerekmektedir.\n",
        "\n",
        "![](https://static.javatpoint.com/tutorial/numpy/images/numpy-sort.png)"
      ]
    },
    {
      "cell_type": "code",
      "metadata": {
        "colab": {
          "base_uri": "https://localhost:8080/"
        },
        "id": "HlL0KiiucWqL",
        "outputId": "ca2a3177-5b23-4443-8d68-7ff572120d6f"
      },
      "source": [
        "arr1 = np.random.randint(1, 20, (2,5))\n",
        "\n",
        "# Küçükten büyüğe sıralayalım:\n",
        "print(np.sort(arr1))"
      ],
      "execution_count": null,
      "outputs": [
        {
          "output_type": "stream",
          "text": [
            "[[ 1  3  5  8 15]\n",
            " [ 8  9 11 15 17]]\n"
          ],
          "name": "stdout"
        }
      ]
    },
    {
      "cell_type": "markdown",
      "metadata": {
        "id": "W0vjoBgRfT-V"
      },
      "source": [
        "Sıralarken index bilgisini de döndürmesini istersek ```argsort()``` kullanmamız gerekmektedir. Bu işlem yine array'i küçükten büyüğe sıralar ancak return olarak sıralanan index bilgisini döndürür. Array'deki elemanların sırasını değiştirmez."
      ]
    },
    {
      "cell_type": "code",
      "metadata": {
        "colab": {
          "base_uri": "https://localhost:8080/"
        },
        "id": "9lby0CpDesTk",
        "outputId": "4ad14f51-6201-4c87-f49f-8313edcc3fa8"
      },
      "source": [
        "arr1 = np.random.randint(1, 20, (2,2)).reshape(4)\n",
        "\n",
        "print(\"Array:\", arr1)\n",
        "\n",
        "print(\"Elemanların büyüklüğü küçüklüğüne göre indexlerin sıralanmış hali:\", np.argsort(arr1))"
      ],
      "execution_count": null,
      "outputs": [
        {
          "output_type": "stream",
          "text": [
            "Array: [ 4 11  9 16]\n",
            "Elemanların büyüklüğü küçüklüğüne göre indexlerin sıralanmış hali: [0 2 1 3]\n"
          ],
          "name": "stdout"
        }
      ]
    },
    {
      "cell_type": "markdown",
      "metadata": {
        "id": "6aRowZltgDTw"
      },
      "source": [
        "--- \n",
        "### 17) Indexing - Multidimensional Array'lerde Indexleme"
      ]
    },
    {
      "cell_type": "markdown",
      "metadata": {
        "id": "VvEqo7Nyyfld"
      },
      "source": [
        "Aynı python listelerdeki gibi index bilgileriyle numpy array'in elemanlara erişebiliriz:\n",
        "\n",
        "![](https://numpy.org/doc/stable/_images/np_indexing.png)"
      ]
    },
    {
      "cell_type": "code",
      "metadata": {
        "colab": {
          "base_uri": "https://localhost:8080/"
        },
        "id": "T5Ka628Yf0UM",
        "outputId": "c350b6b4-2c8e-437a-fa76-f6f1df139f49"
      },
      "source": [
        "a = np.arange(1,21).reshape(4,5)\n",
        "print(f\"A Array'i: \\n{a}\\n\")\n",
        "\n",
        "# Row almak için :\n",
        "print(f\"A Array'inin ilk row'u: \\n{a[0]}\\n\")\n",
        "\n",
        "# Spesifik bir koordinatı almak için :\n",
        "\n",
        "print(f\"A Array'inin 0.satırın 0.sütunundaki değer: \\n{a[0][0]}\")"
      ],
      "execution_count": 2,
      "outputs": [
        {
          "output_type": "stream",
          "text": [
            "A Array'i: \n",
            "[[ 1  2  3  4  5]\n",
            " [ 6  7  8  9 10]\n",
            " [11 12 13 14 15]\n",
            " [16 17 18 19 20]]\n",
            "\n",
            "A Array'inin ilk row'u: \n",
            "[1 2 3 4 5]\n",
            "\n",
            "A Array'inin 0.satırın 0.sütunundaki değer: \n",
            "1\n"
          ],
          "name": "stdout"
        }
      ]
    },
    {
      "cell_type": "markdown",
      "metadata": {
        "id": "BUnqkReXPHPa"
      },
      "source": [
        "Değerlere ulaşabiliyorsak onları değiştirebiliriz de : (Ancak veri tipi neyse sadece onu ekleyebiliriz. Verdiğimiz veri tipi daha büyük bir kümeyi temsil ediyor olsa da yine de sadece veri tipi neyse eklediğimiz veri de o veri tipine çevrilerek array'e işlenir.)"
      ]
    },
    {
      "cell_type": "code",
      "metadata": {
        "colab": {
          "base_uri": "https://localhost:8080/"
        },
        "id": "m-O8WMcRPIiJ",
        "outputId": "0a5b2222-e981-4502-822f-0a453a27d75d"
      },
      "source": [
        "a = np.arange(1,21).reshape(4,5)\n",
        "print(f\"A Array'i: \\n{a}\\n\")\n",
        "\n",
        "a[0][0] = 58\n",
        "print(f\"Değeri Değiştirilmiş A Array'i: \\n{a}\\n\")\n",
        "\n",
        "#Farklı bir veri tipini eşlemeyi deneyelim:\n",
        "a[1][0] = \"30\"\n",
        "print(f\"Değeri Değiştirilmiş A Array'i: \\n{a}\\n\")"
      ],
      "execution_count": null,
      "outputs": [
        {
          "output_type": "stream",
          "text": [
            "A Array'i: \n",
            "[[ 1  2  3  4  5]\n",
            " [ 6  7  8  9 10]\n",
            " [11 12 13 14 15]\n",
            " [16 17 18 19 20]]\n",
            "\n",
            "Değeri Değiştirilmiş A Array'i: \n",
            "[[58  2  3  4  5]\n",
            " [ 6  7  8  9 10]\n",
            " [11 12 13 14 15]\n",
            " [16 17 18 19 20]]\n",
            "\n",
            "Değeri Değiştirilmiş A Array'i: \n",
            "[[58  2  3  4  5]\n",
            " [30  7  8  9 10]\n",
            " [11 12 13 14 15]\n",
            " [16 17 18 19 20]]\n",
            "\n"
          ],
          "name": "stdout"
        }
      ]
    },
    {
      "cell_type": "markdown",
      "metadata": {
        "id": "h-4uttexRloK"
      },
      "source": [
        "**NOT:** Ancak int değerlerden oluşan bir array'in bir değerini gidip \"a\"ya eşitleseydik burada hata alırdık:"
      ]
    },
    {
      "cell_type": "code",
      "metadata": {
        "colab": {
          "base_uri": "https://localhost:8080/",
          "height": 305
        },
        "id": "5PgG9PHLRtSH",
        "outputId": "b1e8b93b-e26c-4dda-a50b-0a39edf1c674"
      },
      "source": [
        "print(f\"A Array'i: \\n{a}\\n\")\n",
        "\n",
        "a[0][0] = \"a\"\n",
        "print(f\"Değeri Değiştirilmiş A Array'i: \\n{a}\\n\")"
      ],
      "execution_count": 3,
      "outputs": [
        {
          "output_type": "stream",
          "text": [
            "A Array'i: \n",
            "[[ 1  2  3  4  5]\n",
            " [ 6  7  8  9 10]\n",
            " [11 12 13 14 15]\n",
            " [16 17 18 19 20]]\n",
            "\n"
          ],
          "name": "stdout"
        },
        {
          "output_type": "error",
          "ename": "ValueError",
          "evalue": "ignored",
          "traceback": [
            "\u001b[0;31m---------------------------------------------------------------------------\u001b[0m",
            "\u001b[0;31mValueError\u001b[0m                                Traceback (most recent call last)",
            "\u001b[0;32m<ipython-input-3-165093196aee>\u001b[0m in \u001b[0;36m<module>\u001b[0;34m()\u001b[0m\n\u001b[1;32m      1\u001b[0m \u001b[0mprint\u001b[0m\u001b[0;34m(\u001b[0m\u001b[0;34mf\"A Array'i: \\n{a}\\n\"\u001b[0m\u001b[0;34m)\u001b[0m\u001b[0;34m\u001b[0m\u001b[0;34m\u001b[0m\u001b[0m\n\u001b[1;32m      2\u001b[0m \u001b[0;34m\u001b[0m\u001b[0m\n\u001b[0;32m----> 3\u001b[0;31m \u001b[0ma\u001b[0m\u001b[0;34m[\u001b[0m\u001b[0;36m0\u001b[0m\u001b[0;34m]\u001b[0m\u001b[0;34m[\u001b[0m\u001b[0;36m0\u001b[0m\u001b[0;34m]\u001b[0m \u001b[0;34m=\u001b[0m \u001b[0;34m\"a\"\u001b[0m\u001b[0;34m\u001b[0m\u001b[0;34m\u001b[0m\u001b[0m\n\u001b[0m\u001b[1;32m      4\u001b[0m \u001b[0mprint\u001b[0m\u001b[0;34m(\u001b[0m\u001b[0;34mf\"Değeri Değiştirilmiş A Array'i: \\n{a}\\n\"\u001b[0m\u001b[0;34m)\u001b[0m\u001b[0;34m\u001b[0m\u001b[0;34m\u001b[0m\u001b[0m\n",
            "\u001b[0;31mValueError\u001b[0m: invalid literal for int() with base 10: 'a'"
          ]
        }
      ]
    },
    {
      "cell_type": "markdown",
      "metadata": {
        "id": "7gas8e6-SOsl"
      },
      "source": [
        "**Peki ya** tüm row'ları al ama sadece 3.column'ı al demek için nasıl yazabiliriz:"
      ]
    },
    {
      "cell_type": "code",
      "metadata": {
        "colab": {
          "base_uri": "https://localhost:8080/"
        },
        "id": "RNYwb8R8STlo",
        "outputId": "e2079271-692b-418c-9851-d88626de6390"
      },
      "source": [
        "a = np.random.randint(1,21, (4, 5))\n",
        "print(f\"A Array'i: \\n{a}\\n\")\n",
        "\n",
        "print(f\"A Array'inin bütün row'ları ve sadece 3.indexteki column'ı alınmış hali: \\n{a[:,3]}\\n\")\n",
        "\n",
        "print(f\"A Array'inin bütün row'ları ve sadece 3.indexteki column'a kadar tüm column'ları alınmış hali: \\n{a[:,:3]}\\n\")"
      ],
      "execution_count": 4,
      "outputs": [
        {
          "output_type": "stream",
          "text": [
            "A Array'i: \n",
            "[[ 8  1 14 12  7]\n",
            " [13 15 19 19 15]\n",
            " [18  6 12 16 10]\n",
            " [ 7 12 11 17 17]]\n",
            "\n",
            "A Array'inin bütün row'ları ve sadece 3.indexteki column'ı alınmış hali: \n",
            "[12 19 16 17]\n",
            "\n",
            "A Array'inin bütün row'ları ve sadece 3.indexteki column'a kadar tüm column'ları alınmış hali: \n",
            "[[ 8  1 14]\n",
            " [13 15 19]\n",
            " [18  6 12]\n",
            " [ 7 12 11]]\n",
            "\n"
          ],
          "name": "stdout"
        }
      ]
    },
    {
      "cell_type": "code",
      "metadata": {
        "colab": {
          "base_uri": "https://localhost:8080/"
        },
        "id": "602eVZ7PT8Xn",
        "outputId": "ba4d52ec-e731-44af-a88b-a1334c1fd4e5"
      },
      "source": [
        "a=np.arange(1,13).reshape(3,4)\n",
        "a[::2]"
      ],
      "execution_count": null,
      "outputs": [
        {
          "output_type": "execute_result",
          "data": {
            "text/plain": [
              "array([[ 1,  2,  3,  4],\n",
              "       [ 9, 10, 11, 12]])"
            ]
          },
          "metadata": {
            "tags": []
          },
          "execution_count": 19
        }
      ]
    },
    {
      "cell_type": "markdown",
      "metadata": {
        "id": "1y2ln2tASOXT"
      },
      "source": [
        "---\n",
        "### 18) Fancy Indexing"
      ]
    },
    {
      "cell_type": "markdown",
      "metadata": {
        "id": "EuvDL0L5Tcf1"
      },
      "source": [
        "Şimdiye kadarki indexlemelerde \"bana şu indexi getir\", \"bana şu sütunları getir\" veya \"bana şu iki değer arasındaki öbekleri getir\" gibi talimatlar vermemiz gerekiyordu. Ancak \"bana 3. 12. 18.'yi getir\" gibi spesifik talimatlar da vermek isteyebiliriz. İşte bu gibi durumlarda **Fancy Indexing** yolunu kullanırız. Multi-dimension'larda da geçerli olan bu yöntem aslında çok basittir. Dışarıda tanımladığımız bir listeyi array'e tıpkı slicing yaparmış gibi yazmamız yeterlidir\n",
        "\n",
        "``` pyhton\n",
        "spesific_indexs = [.., .., ..]\n",
        "array[spesific_indexs]\n",
        "```\n",
        "\n",
        "**NOT:** Verdiğimiz sıra ile output'larımızı alıyoruz. Fancy indexing kendi içerisinde bir sorting işlemi yapmamaktadır. "
      ]
    },
    {
      "cell_type": "code",
      "metadata": {
        "colab": {
          "base_uri": "https://localhost:8080/"
        },
        "id": "eKnSOOvwTdRd",
        "outputId": "4248787a-af7f-4064-e870-1588d9cc8f30"
      },
      "source": [
        "x = np.arange(1, 15)\n",
        "\n",
        "idxs = [1, 3, 8]\n",
        "\n",
        "x[idxs]"
      ],
      "execution_count": null,
      "outputs": [
        {
          "output_type": "execute_result",
          "data": {
            "text/plain": [
              "array([2, 4, 9])"
            ]
          },
          "metadata": {
            "tags": []
          },
          "execution_count": 21
        }
      ]
    },
    {
      "cell_type": "code",
      "metadata": {
        "colab": {
          "base_uri": "https://localhost:8080/"
        },
        "id": "jMFeVNkrXQg6",
        "outputId": "3e9b356a-9311-437d-e783-e2012ff0f9ba"
      },
      "source": [
        "# Multi-dimension örneği olarak:\n",
        "a = np.arange(1,13).reshape(3,4)\n",
        "print(f\"a Array'imiz : \\n{a}\\n\")\n",
        "\n",
        "# Sol taraf normal bir indexing olsun sağ taraf fancy indexing olsun:\n",
        "# 0.index'teki row'u al ve bana 1 ve 3'teki columnları döndür.\n",
        "print(f\"Normal indexing + Fancy indexing : \\n{a[0, [1,3]]}\\n\")\n",
        "\n",
        "# Sol taraf normal bir slicing olsun sağ taraf fancy indexing olsun:\n",
        "# Tüm row'ları al ve column olarak 1 ve 3'e gelen column'ları al.\n",
        "print(f\"Normal slicing + Fancy indexing : \\n{a[:, [1,3]]}\\n\")\n",
        "\n",
        "# İki tarafın da fancy indexing ile yapıldığı bir indexing işlemi yapalım:\n",
        "idx1 = [0,1]\n",
        "idx2 = [2,3]\n",
        "\n",
        "# idx1'i ilk yazacağım için idx1'deki 0 ve 1. row ile idx2'deki 2 ve 3. column\n",
        "# bilgilerine sahip değerler return edildi.\n",
        "print(f\"Fancy indexing + Fancy indexing : \\n{a[idx1, idx2]}\\n\")"
      ],
      "execution_count": 5,
      "outputs": [
        {
          "output_type": "stream",
          "text": [
            "a Array'imiz : \n",
            "[[ 1  2  3  4]\n",
            " [ 5  6  7  8]\n",
            " [ 9 10 11 12]]\n",
            "\n",
            "Normal indexing + Fancy indexing : \n",
            "[2 4]\n",
            "\n",
            "Normal slicing + Fancy indexing : \n",
            "[[ 2  4]\n",
            " [ 6  8]\n",
            " [10 12]]\n",
            "\n",
            "Fancy indexing + Fancy indexing : \n",
            "[3 8]\n",
            "\n"
          ],
          "name": "stdout"
        }
      ]
    },
    {
      "cell_type": "markdown",
      "metadata": {
        "id": "mSKa1D52bwea"
      },
      "source": [
        "**NOT:** Slicing işlemi gibi önce row'u sonra column'ı vereyim diyemiyoruz. Yani şöyle bir ifade hatalı olur:\n",
        "``` python\n",
        "array[idx1][idx2]\n",
        "```"
      ]
    },
    {
      "cell_type": "markdown",
      "metadata": {
        "id": "MG5_L6OtcLE8"
      },
      "source": [
        "Fancy indexing ile değer değiştirme :"
      ]
    },
    {
      "cell_type": "code",
      "metadata": {
        "colab": {
          "base_uri": "https://localhost:8080/"
        },
        "id": "2VGaQa3LcYXb",
        "outputId": "3f37501b-4cf4-4398-d5b5-3c4d294ef496"
      },
      "source": [
        "a = np.arange(1,13).reshape(3,4)\n",
        "print(f\"A array'i : \\n{a}\\n\")\n",
        "\n",
        "a[[0,1,2]] = 58\n",
        "print(f\"Fancy indexing ile değiştirilmiş A array'i : \\n{a}\")\n",
        "# a[[0,1,2]] = 58, 59, 60 şeklinde de yapabilirdik. İllaki tek bir değere atamamıza gerek yok."
      ],
      "execution_count": null,
      "outputs": [
        {
          "output_type": "stream",
          "text": [
            "A array'i : \n",
            "[[ 1  2  3  4]\n",
            " [ 5  6  7  8]\n",
            " [ 9 10 11 12]]\n",
            "\n",
            "Fancy indexing ile değiştirilmiş A array'i : \n",
            "[[58 58 58 58]\n",
            " [58 58 58 58]\n",
            " [58 58 58 58]]\n"
          ],
          "name": "stdout"
        }
      ]
    },
    {
      "cell_type": "markdown",
      "metadata": {
        "id": "KhhTDX8yeAtH"
      },
      "source": [
        "---\n",
        "### 19) Subarray:"
      ]
    },
    {
      "cell_type": "markdown",
      "metadata": {
        "id": "c7iwN9BaeC0T"
      },
      "source": [
        "Array'in bir alt parçasına erişip orada işlemler yapmayı göreceğiz. Alt array'de yaptığımız değişiklikler ana array'imizi de etkileyecektir. Başka bir ifadeyle aynı memory'yi (aynı hafıza yerini) paylaşmaktadırlar. Subarray'in avantajı ise özellikle büyük array'lerde tüm array'i alıp hantal bir şekilde işlem yapmaktansa pratik ve hızlı işlemler yapabilmeyi sağlamaktadır.\n"
      ]
    },
    {
      "cell_type": "code",
      "metadata": {
        "colab": {
          "base_uri": "https://localhost:8080/"
        },
        "id": "Y6khxs2ap877",
        "outputId": "31ed8758-b370-4af2-81a7-bff1c4127f39"
      },
      "source": [
        "a = np.arange(1,21).reshape(4,5)\n",
        "print(f\"Orijinal Array'imiz : \\n {a}\\n\")\n",
        "\n",
        "b = a[:2, :3]\n",
        "print(f\"a Array'inin bir kısmı olan b array'i: \\n{b}\\n\")\n",
        "\n",
        "b[0][0] = 58\n",
        "print(f\"Orijinal Array'imiz : \\n {a}\\n\")"
      ],
      "execution_count": null,
      "outputs": [
        {
          "output_type": "stream",
          "text": [
            "Orijinal Arra'imiz : \n",
            " [[ 1  2  3  4  5]\n",
            " [ 6  7  8  9 10]\n",
            " [11 12 13 14 15]\n",
            " [16 17 18 19 20]]\n",
            "\n",
            "a Array'inin bir kısmı olan b array'i: \n",
            "[[1 2 3]\n",
            " [6 7 8]]\n",
            "\n",
            "Orijinal Arra'imiz : \n",
            " [[58  2  3  4  5]\n",
            " [ 6  7  8  9 10]\n",
            " [11 12 13 14 15]\n",
            " [16 17 18 19 20]]\n",
            "\n"
          ],
          "name": "stdout"
        }
      ]
    },
    {
      "cell_type": "markdown",
      "metadata": {
        "id": "xgOpifIrr2ag"
      },
      "source": [
        "Değişiklikler orijinal array'imizi etkilemesin dersek bu gibi durumlarda ```array.copy()``` kullanabiliriz."
      ]
    },
    {
      "cell_type": "code",
      "metadata": {
        "id": "gqK6QygDlb-x"
      },
      "source": [
        "import numpy as np"
      ],
      "execution_count": null,
      "outputs": []
    },
    {
      "cell_type": "code",
      "metadata": {
        "colab": {
          "base_uri": "https://localhost:8080/"
        },
        "id": "29VutUY-qR4Z",
        "outputId": "f8b5ade8-2d17-4848-d3de-b90a3fa68b0c"
      },
      "source": [
        "a = np.arange(1,21).reshape(4,5)\n",
        "print(f\"Orijinal Array'imiz : \\n {a}\\n\")\n",
        "\n",
        "b = a[:2, :3].copy()\n",
        "print(f\"a Array'inin bir kısmı olan b array'i: \\n{b}\\n\")\n",
        "\n",
        "b[0][0] = 58\n",
        "print(f\"Orijinal Array'imiz : \\n {a}\\n\")"
      ],
      "execution_count": null,
      "outputs": [
        {
          "output_type": "stream",
          "text": [
            "Orijinal Array'imiz : \n",
            " [[ 1  2  3  4  5]\n",
            " [ 6  7  8  9 10]\n",
            " [11 12 13 14 15]\n",
            " [16 17 18 19 20]]\n",
            "\n",
            "a Array'inin bir kısmı olan b array'i: \n",
            "[[1 2 3]\n",
            " [6 7 8]]\n",
            "\n",
            "Orijinal Array'imiz : \n",
            " [[ 1  2  3  4  5]\n",
            " [ 6  7  8  9 10]\n",
            " [11 12 13 14 15]\n",
            " [16 17 18 19 20]]\n",
            "\n"
          ],
          "name": "stdout"
        }
      ]
    },
    {
      "cell_type": "markdown",
      "metadata": {
        "id": "zuJOEODqlm8d"
      },
      "source": [
        "---\n",
        "### 20) Filter :"
      ]
    },
    {
      "cell_type": "markdown",
      "metadata": {
        "id": "TyKMs_AnmER3"
      },
      "source": [
        "Eldeki array'in elemanlarının belirli bir filtreden geçerek seçilmesini sağlamaktadır."
      ]
    },
    {
      "cell_type": "code",
      "metadata": {
        "colab": {
          "base_uri": "https://localhost:8080/"
        },
        "id": "abpn5tJPlwHo",
        "outputId": "cfc3eb05-33d6-457d-9d75-120d86484dd6"
      },
      "source": [
        "a = np.arange(1,10)\n",
        "print(a<5)\n",
        "print(a[a<5])"
      ],
      "execution_count": 7,
      "outputs": [
        {
          "output_type": "stream",
          "text": [
            "[ True  True  True  True False False False False False]\n",
            "[1 2 3 4]\n"
          ],
          "name": "stdout"
        }
      ]
    },
    {
      "cell_type": "code",
      "metadata": {
        "colab": {
          "base_uri": "https://localhost:8080/"
        },
        "id": "BMFY3w2Dm-vE",
        "outputId": "5c189735-574e-4828-a422-ca9119792c3d"
      },
      "source": [
        "a = np.arange(1, 10)\n",
        "b = np.arange(5, 10)\n",
        "\n",
        "print(a==b)\n",
        "print(a[a==b]) # Kesişim alındığı için a[a==b] = b[a==b]"
      ],
      "execution_count": 8,
      "outputs": [
        {
          "output_type": "stream",
          "text": [
            "False\n",
            "[]\n"
          ],
          "name": "stdout"
        },
        {
          "output_type": "stream",
          "text": [
            "/usr/local/lib/python3.7/dist-packages/ipykernel_launcher.py:4: DeprecationWarning: elementwise comparison failed; this will raise an error in the future.\n",
            "  after removing the cwd from sys.path.\n",
            "/usr/local/lib/python3.7/dist-packages/ipykernel_launcher.py:5: DeprecationWarning: elementwise comparison failed; this will raise an error in the future.\n",
            "  \"\"\"\n"
          ],
          "name": "stderr"
        }
      ]
    },
    {
      "cell_type": "code",
      "metadata": {
        "colab": {
          "base_uri": "https://localhost:8080/"
        },
        "id": "cpv6FXMbn_8r",
        "outputId": "e1ac6e32-0580-4567-87ec-2029d4b41f6e"
      },
      "source": [
        "# Filtreleme esnasında or yapısı da kullanılabilmektedir :\n",
        "print(a[(a<3) | (a>5)])\n",
        "print(\"\\n\")\n",
        "\n",
        "# \"not\" operatörü için tilda işareti kullanılmaktadır.\n",
        "print(a[~(a<3) | (a>5)])"
      ],
      "execution_count": 9,
      "outputs": [
        {
          "output_type": "stream",
          "text": [
            "[1 2 6 7 8 9]\n",
            "\n",
            "\n",
            "[3 4 5 6 7 8 9]\n"
          ],
          "name": "stdout"
        }
      ]
    },
    {
      "cell_type": "markdown",
      "metadata": {
        "id": "jvQyPtzFrtMJ"
      },
      "source": [
        "---\n",
        "### 21) Sum"
      ]
    },
    {
      "cell_type": "markdown",
      "metadata": {
        "id": "95XjVG5GkJFV"
      },
      "source": [
        "```np.sum(a, axis)``` kullanılarak yapılır. Tüm değerleri ya da belirli axis'ler üzerindeki değerleri toplamamızı sağlar. Filtreler ile birlikte kullanımı da mevcuttur. Parametreleri ise a bir array'i temsil ederken axis ise satır bazında mı sütun bazında mı işlem yapması gerektiğini söyler.\n",
        "\n",
        "![](https://static.javatpoint.com/tutorial/numpy/images/numpy-sum.png)"
      ]
    },
    {
      "cell_type": "code",
      "metadata": {
        "colab": {
          "base_uri": "https://localhost:8080/"
        },
        "id": "EalC8qVqkYLo",
        "outputId": "1bd5b014-57da-4a99-9510-17b19c161d77"
      },
      "source": [
        "a = np.arange(1, 21).reshape(4,5)\n",
        "\n",
        "print(f\"A Array'inin elemanlarının toplamı : \\n{np.sum(a)}\\n\")\n",
        "print(f\"A Array'inin elemanlarının filtrelenerek toplamı : \\n{np.sum(a[a<5])}\\n\")\n",
        "print(f\"Filtreyi sağlayan toplam eleman sayısı : \\n{np.sum(a<5)}\")"
      ],
      "execution_count": null,
      "outputs": [
        {
          "output_type": "stream",
          "text": [
            "A Array'inin elemanlarının toplamı : \n",
            "210\n",
            "\n",
            "A Array'inin elemanlarının filtrelenerek toplamı : \n",
            "10\n",
            "\n",
            "Filtreyi sağlayan toplam eleman sayısı : \n",
            " 4\n"
          ],
          "name": "stdout"
        }
      ]
    },
    {
      "cell_type": "code",
      "metadata": {
        "colab": {
          "base_uri": "https://localhost:8080/"
        },
        "id": "S1Cc8-1Sl3bg",
        "outputId": "df109fe7-c108-4a6f-ce6c-ea25a2328df7"
      },
      "source": [
        "filt = ((a>5) & (a<9))\n",
        "\n",
        "# Bu filtreyi sağlayan kaç eleman var:\n",
        "print(np.sum(filt))\n",
        "\n",
        "# Bu filtreyi sağlayan elemanları döndür:\n",
        "print(a[filt])"
      ],
      "execution_count": null,
      "outputs": [
        {
          "output_type": "stream",
          "text": [
            "3\n",
            "[6 7 8]\n"
          ],
          "name": "stdout"
        }
      ]
    },
    {
      "cell_type": "code",
      "metadata": {
        "colab": {
          "base_uri": "https://localhost:8080/"
        },
        "id": "T-SjhSsAmcZc",
        "outputId": "561dc525-6929-4be4-dee8-d1c9a1750752"
      },
      "source": [
        "# Belirli axisler üzerinden toplamak istersek :\n",
        "print(f\"A Array'i : \\n{a}\\n\")\n",
        "print(f\"Axis=0 olduğu durumda toplam sonucu : \\n{np.sum(a, axis=0)}\\n\")\n",
        "print(f\"Axis=1 olduğu durumda toplam sonucu : \\n{np.sum(a, axis=1)}\\n\")"
      ],
      "execution_count": null,
      "outputs": [
        {
          "output_type": "stream",
          "text": [
            "A Array'i : \n",
            "[[ 1  2  3  4  5]\n",
            " [ 6  7  8  9 10]\n",
            " [11 12 13 14 15]\n",
            " [16 17 18 19 20]]\n",
            "\n",
            "Axis=0 olduğu durumda toplam sonucu : \n",
            "[34 38 42 46 50]\n",
            "\n",
            "Axis=1 olduğu durumda toplam sonucu : \n",
            "[15 40 65 90]\n",
            "\n"
          ],
          "name": "stdout"
        }
      ]
    },
    {
      "cell_type": "markdown",
      "metadata": {
        "id": "eVmyeOB5n5L8"
      },
      "source": [
        "---\n",
        "### 22) All"
      ]
    },
    {
      "cell_type": "markdown",
      "metadata": {
        "id": "1iVjRckSn8A0"
      },
      "source": [
        "Vereceğim condition için tek bir True ya da False değer istiyorsam yani sonucumu elemanların teker teker sonucu olarak değil de matrisin hepsi için istiyorsam ```np.all(condition, axis)``` kullanırım. "
      ]
    },
    {
      "cell_type": "code",
      "metadata": {
        "colab": {
          "base_uri": "https://localhost:8080/"
        },
        "id": "_VcX7Ajpn8lJ",
        "outputId": "3bacebb3-113a-4450-bfff-4b3279e024b3"
      },
      "source": [
        "a = np.arange(3,23).reshape(4,5)\n",
        "print(f\"A Array'i : \\n{a}\\n\")\n",
        "print(f\"All fonksiyonu olmadan : \\n{a>5}\\n\")\n",
        "\n",
        "# 5 farklı sütün için 5 farklı değer döndürdü,\n",
        "print(f\"All fonksiyonu varken : \\n{np.all(a>5)}\\n\")\n",
        "\n",
        "# sütunların içindeki tüm elemanlara baktı ve temsilen bir değer döndürdü.\n",
        "print(f\"All fonksiyonu varken ve axis=1 : \\n{np.all(a>5, axis=1)}\\n\")"
      ],
      "execution_count": 10,
      "outputs": [
        {
          "output_type": "stream",
          "text": [
            "A Array'i : \n",
            "[[ 3  4  5  6  7]\n",
            " [ 8  9 10 11 12]\n",
            " [13 14 15 16 17]\n",
            " [18 19 20 21 22]]\n",
            "\n",
            "All fonksiyonu olmadan : \n",
            "[[False False False  True  True]\n",
            " [ True  True  True  True  True]\n",
            " [ True  True  True  True  True]\n",
            " [ True  True  True  True  True]]\n",
            "\n",
            "All fonksiyonu varken : \n",
            "False\n",
            "\n",
            "All fonksiyonu varken ve axis=1 : \n",
            "[False  True  True  True]\n",
            "\n"
          ],
          "name": "stdout"
        }
      ]
    },
    {
      "cell_type": "markdown",
      "metadata": {
        "id": "NT3JHoFbxapo"
      },
      "source": [
        "---\n",
        "### 23) Any"
      ]
    },
    {
      "cell_type": "markdown",
      "metadata": {
        "id": "vGYEEboxxczW"
      },
      "source": [
        "All gibidir. Bir şartın sağlanıp sağlanamadığını tüm elemanlar için kontrol edip tek bir sonuç döndürmeye yarar. All'dan farkı ise eğer bir eleman dahi belirttiğimiz şartı sağlıyorsa True döner. "
      ]
    },
    {
      "cell_type": "code",
      "metadata": {
        "colab": {
          "base_uri": "https://localhost:8080/"
        },
        "id": "A2YatE6nx4Gp",
        "outputId": "4dbbaa3a-f0d3-4c14-e4ab-47c8c54b6a19"
      },
      "source": [
        "a = np.arange(3,23).reshape(4,5)\n",
        "print(f\"A Array'i : \\n{a}\\n\")\n",
        "print(f\"Any fonksiyonu olmadan : \\n{a>5}\\n\")\n",
        "print(f\"Any fonksiyonu varken : \\n{np.any(a>5)}\\n\")\n",
        "print(f\"Any fonksiyonu varken ve axis=1 iken : \\n{np.any(a>5, axis=1)}\\n\")\n",
        "# axis=0 bir column belirleyip onun row'larıyla hesap yaparken \n",
        "# axis=1 bir row belirleyip onun column'larıyla işlemler yapmaktadır."
      ],
      "execution_count": null,
      "outputs": [
        {
          "output_type": "stream",
          "text": [
            "A Array'i : \n",
            "[[ 3  4  5  6  7]\n",
            " [ 8  9 10 11 12]\n",
            " [13 14 15 16 17]\n",
            " [18 19 20 21 22]]\n",
            "\n",
            "Any fonksiyonu olmadan : \n",
            "[[False False False  True  True]\n",
            " [ True  True  True  True  True]\n",
            " [ True  True  True  True  True]\n",
            " [ True  True  True  True  True]]\n",
            "\n",
            "Any fonksiyonu varken : \n",
            "True\n",
            "\n",
            "Any fonksiyonu varken ve axis=1 iken : \n",
            "[ True  True  True  True]\n",
            "\n"
          ],
          "name": "stdout"
        }
      ]
    },
    {
      "cell_type": "markdown",
      "metadata": {
        "id": "ejDt6O4Jyhub"
      },
      "source": [
        "---\n",
        "## Anlatılmayan Önemli Fonksiyonlar:\n",
        "*   1) np.max() , np.min() , np.sqrt() , np.exp() , np.log() , np.std()\n",
        "*   2) np.mod():\n",
        "*   3) np.extract() :\n",
        "*   4) np.argmax() : \n",
        "*   5) np.prod() : \n",
        "*   6) np.allclose() :\n",
        "*   7) np.clip() :\n",
        "*   8) np.where() :\n",
        "*   9) np.transpose() :\n",
        "*   10) np.repeat() :\n",
        "*   11) np.histogram() :\n",
        "*   12) np.polyfit() : \n",
        "*   13) np.loadtxt() :\n",
        "*   14) np.flatten() :\n",
        "\n"
      ]
    },
    {
      "cell_type": "markdown",
      "metadata": {
        "id": "EFWC8Uh0RmRI"
      },
      "source": [
        "**1)** ``` np.max() , np.min() , np.sqrt() , np.exp() , np.log() , np.std() :``` Hepsi adından da anlaşılabileceği gibi matematiksel işlemler yapılmasını sağlar. Örneklerine geçelim:"
      ]
    },
    {
      "cell_type": "code",
      "metadata": {
        "colab": {
          "base_uri": "https://localhost:8080/"
        },
        "id": "7xBDigs0Ri5n",
        "outputId": "47858699-34d5-4456-fcd5-c1e795152710"
      },
      "source": [
        "a = np.array([3,5,7,9,10,100])\n",
        "\n",
        "print(f\"A array'indeki max değer : {np.max(a)}\\n\")\n",
        "print(f\"A array'indeki min değer : {np.min(a)}\\n\")\n",
        "print(f\"A array'indeki karekök değerleri : {np.sqrt(a)}\\n\")\n",
        "print(f\"A array'indeki karesini aldığımız değer : {np.exp(a)}\\n\")\n",
        "print(f\"A array'indeki logaritması alınmış haldeki değer : {np.log(a)}\\n\")\n",
        "print(f\"A array'inin standart sapması : {np.std(a)}\\n\")"
      ],
      "execution_count": 12,
      "outputs": [
        {
          "output_type": "stream",
          "text": [
            "A array'indeki max değer : 100\n",
            "\n",
            "A array'indeki min değer : 3\n",
            "\n",
            "A array'indeki karekök değerleri : [ 1.73205081  2.23606798  2.64575131  3.          3.16227766 10.        ]\n",
            "\n",
            "A array'indeki karesini aldığımız değer : [2.00855369e+01 1.48413159e+02 1.09663316e+03 8.10308393e+03\n",
            " 2.20264658e+04 2.68811714e+43]\n",
            "\n",
            "A array'indeki logaritması alınmış haldeki değer : [1.09861229 1.60943791 1.94591015 2.19722458 2.30258509 4.60517019]\n",
            "\n",
            "A array'inin standart sapması : 34.81219454284503\n",
            "\n"
          ],
          "name": "stdout"
        }
      ]
    },
    {
      "cell_type": "markdown",
      "metadata": {
        "id": "pPniHzYKMU7Z"
      },
      "source": [
        "**2)** ```np.mod() :``` Array'deki elemanların, fonksiyonun içine yazılacak olan mod işlemini sağlayıp sağlamadıklarını göstermektedir. True veya False döndürmektedir :"
      ]
    },
    {
      "cell_type": "code",
      "metadata": {
        "colab": {
          "base_uri": "https://localhost:8080/"
        },
        "id": "7gH2g_fxIGNF",
        "outputId": "302f5921-1000-4c55-d990-11eaf3d3aa49"
      },
      "source": [
        "# Random integers\n",
        "array = np.random.randint(20, size=12)\n",
        "print(\"Array :\\n\",array)\n",
        "\n",
        "# Tek sayıları bulmak için 2'ye modunu alalım ve 1'e eşit olanları döndürelim.\n",
        "cond = np.mod(array, 2)==1\n",
        "print(\"Tek Sayılar :\\n\",cond)"
      ],
      "execution_count": null,
      "outputs": [
        {
          "output_type": "stream",
          "text": [
            "Array :\n",
            " [ 1  5 18 14 19  7 12 17  5 18 16 17]\n",
            "Tek Sayılar :\n",
            " [ True  True False False  True  True False  True  True False False  True]\n"
          ],
          "name": "stdout"
        }
      ]
    },
    {
      "cell_type": "markdown",
      "metadata": {
        "id": "LbCkimqcM94T"
      },
      "source": [
        "**3)** ```np.extract(condition, arr) :``` Belirli koşulları sağlamayan elemanların array'den atılmasını sağlar. Yukarıda np.mod()'da yaptığımız gibi bir koşul koyalım ve tek sayıları alalım, bu sefer çift sayıları atalım. Parametreleri ise adı üzerinde ilki bir koşul ikincisi de bu koşulu hangi array üzerinde test edeceğimizdir. Örneğe gelelim: "
      ]
    },
    {
      "cell_type": "code",
      "metadata": {
        "colab": {
          "base_uri": "https://localhost:8080/"
        },
        "id": "_70ECd4zM0de",
        "outputId": "9f72f833-1fea-4865-88f1-dd1e035d883a"
      },
      "source": [
        "# Rastgele int değerler\n",
        "array = np.random.randint(20, size=20)\n",
        "print(\"Array :\\n\",array)\n",
        "\n",
        "# Tek sayıları bulmak için 2'ye modunu alalım ve 1'e eşit olanları döndürelim.\n",
        "cond = np.mod(array, 2)==1\n",
        "print(\"Tek Sayılar :\\n\",cond)\n",
        "\n",
        "# extract etmek için:\n",
        "print(f\"Sadece Tek Sayılar : \\n{np.extract(cond, array)}\")"
      ],
      "execution_count": null,
      "outputs": [
        {
          "output_type": "stream",
          "text": [
            "Array :\n",
            " [ 2 15  0  0 16  1  9 10  3  7 16  4  9  0 13  4 12  8 13  5]\n",
            "Tek Sayılar :\n",
            " [False  True False False False  True  True False  True  True False False\n",
            "  True False  True False False False  True  True]\n",
            "Sadece Tek Sayılar : \n",
            "[15  1  9  3  7  9 13 13  5]\n"
          ],
          "name": "stdout"
        }
      ]
    },
    {
      "cell_type": "markdown",
      "metadata": {
        "id": "xczITGbVUtkf"
      },
      "source": [
        "**4)** ```np.argmax() : ve np.argmin() :``` Min ve max değerlerin kaçıncı elemana ait olduğu bilgisini döndürür."
      ]
    },
    {
      "cell_type": "code",
      "metadata": {
        "colab": {
          "base_uri": "https://localhost:8080/"
        },
        "id": "4dUEOO62U0Gf",
        "outputId": "2b31a7a9-248d-4799-af27-ccfd884a2329"
      },
      "source": [
        "a = np.random.randint(1,10,12).reshape(3, 4)\n",
        "print(\"a Array'i : \\n\", a)\n",
        "  \n",
        "print(\"\\nMaksimum değere denk gelen eleman :\", np.argmax(a))"
      ],
      "execution_count": null,
      "outputs": [
        {
          "output_type": "stream",
          "text": [
            "a Array'i : \n",
            " [[6 4 5 3]\n",
            " [7 2 6 4]\n",
            " [6 2 9 3]]\n",
            "\n",
            "Maksimum değere denk gelen eleman : 0\n"
          ],
          "name": "stdout"
        }
      ]
    },
    {
      "cell_type": "markdown",
      "metadata": {
        "id": "ASQT-YcuU1Av"
      },
      "source": [
        "**5)** ```np.prod(a) :``` Array'deki tüm elemanların çarpımlarının sonucunu döndürüyor. (a = elemanlarının çarpımı istenen array)"
      ]
    },
    {
      "cell_type": "code",
      "metadata": {
        "colab": {
          "base_uri": "https://localhost:8080/"
        },
        "id": "jsFnoYObU6WK",
        "outputId": "51cf591d-efbf-46e8-ac56-f798226e2c83"
      },
      "source": [
        "a = np.random.randint(1,10,4).reshape(2, 2)\n",
        "print(\"a Array'i : \\n\", a)\n",
        "  \n",
        "print(\"\\nÇarpım sonucu elde edlien değer :\", np.prod(a))"
      ],
      "execution_count": 13,
      "outputs": [
        {
          "output_type": "stream",
          "text": [
            "a Array'i : \n",
            " [[6 5]\n",
            " [9 7]]\n",
            "\n",
            "Çarpım sonucu elde edlien değer : 1890\n"
          ],
          "name": "stdout"
        }
      ]
    },
    {
      "cell_type": "markdown",
      "metadata": {
        "id": "0KypOsIAF_lY"
      },
      "source": [
        "**6)** ```np.allclose() :``` İki diziyi eşleştirmek ve çıktıyı bir bool değeri cinsinden almak için kullanılır. İki dizideki öğeler bir tolerans dahilinde eşit değilse False değerini döndürür. Bu, iki dizinin benzer olup olmadığını kontrol etmenin harika bir yoludur, ki bu aslında manuel olarak uygulanması zor olabilir."
      ]
    },
    {
      "cell_type": "code",
      "metadata": {
        "id": "ejEi-39RysQn",
        "colab": {
          "base_uri": "https://localhost:8080/"
        },
        "outputId": "38332d26-43dd-4bab-ac4e-0615bbdc90c6"
      },
      "source": [
        "array1 = np.array([0.12,0.17,0.24,0.29])\n",
        "array2 = np.array([0.13,0.19,0.26,0.31])\n",
        "\n",
        "print(f\"Birbirleri arasındaki farklar 0.1 oranından fazla mı : \\n{np.allclose(array1,array2,0.1)}\\n\")\n",
        "\n",
        "print(f\"Birbirleri arasındaki farklar 0.2 oranından fazla mı :\\n{np.allclose(array1,array2,0.2)}\\n\")"
      ],
      "execution_count": null,
      "outputs": [
        {
          "output_type": "stream",
          "text": [
            "Birbirleri arasındaki farklar 0.1 oranından fazla mı : \n",
            "False\n",
            "\n",
            "Birbirleri arasındaki farklar 0.2 oranından fazla mı :\n",
            "True\n",
            "\n"
          ],
          "name": "stdout"
        }
      ]
    },
    {
      "cell_type": "markdown",
      "metadata": {
        "id": "3WxzomWrHwqO"
      },
      "source": [
        "**7)** ```np.clip() :``` Elimizdeki array'in elemanlarının max ve min değerlerini kontrol etmek ve elemanların hepsinin bu iki aralıkta olmasını sağlamak isteriz. Bu gibi durumlarda belirttiğimiz değerlerin altında veya üstünde olan değerler en yakın değerlere çevirilerek kullanılır:"
      ]
    },
    {
      "cell_type": "code",
      "metadata": {
        "colab": {
          "base_uri": "https://localhost:8080/"
        },
        "id": "4ltBOTAEGs0X",
        "outputId": "865e6d4b-21ac-4904-90ba-d6982c28c4c3"
      },
      "source": [
        "a = np.random.randint(1,20, 20)\n",
        "print(f\"A Array'i : \\n{a}\\n\")\n",
        "# Örneğin 1 değeri alt sınır olan 5'ten küçük olduğu için 5 olarak alındı.\n",
        "# Zaten aralık içerisinde bulunan değerler değişmedi.\n",
        "# Aralığın üstünde olan değerler üst limite eşitlendi.\n",
        "# Böylelikle array'imiz belirtilen sayısal aralıklar arasına indirgenmiş oldu \n",
        "print(f\"A Array'inden 5 ve 15 arasındaki değerlerin alınmış hali:\\n{np.clip(a,5,15)}\")"
      ],
      "execution_count": null,
      "outputs": [
        {
          "output_type": "stream",
          "text": [
            "A Array'i : \n",
            "[ 1 11  8  2  3  8 15  8 17 15 18 19  6  5 11 12  7  6 11 16]\n",
            "\n",
            "A Array'inden 5 ve 15 arasındaki değerlerin alınmış hali:\n",
            "[ 5 11  8  5  5  8 15  8 15 15 15 15  6  5 11 12  7  6 11 15]\n"
          ],
          "name": "stdout"
        }
      ]
    },
    {
      "cell_type": "markdown",
      "metadata": {
        "id": "MfStB8WhOluy"
      },
      "source": [
        "**8)** ```np.where() :``` Belirli bir koşulu sağlayan değerlerin index bilgisini döndürür. SQL'de kullandığımız 'WHERE' koşuluna benzer."
      ]
    },
    {
      "cell_type": "code",
      "metadata": {
        "colab": {
          "base_uri": "https://localhost:8080/"
        },
        "id": "Q5ImzeUzOUgC",
        "outputId": "87d4b4d3-d06a-4391-a18c-b42373e817f1"
      },
      "source": [
        "a = np.array([1,5,6,8,1,7,3,6,9])\n",
        "# a'nın 5'ten büyük olduğu durumu sağlayan index bilgilerine erişelim:\n",
        "print(np.where(a>5))"
      ],
      "execution_count": null,
      "outputs": [
        {
          "output_type": "execute_result",
          "data": {
            "text/plain": [
              "(array([2, 3, 5, 7, 8]),)"
            ]
          },
          "metadata": {
            "tags": []
          },
          "execution_count": 28
        }
      ]
    },
    {
      "cell_type": "markdown",
      "metadata": {
        "id": "qAlucNc7PWrS"
      },
      "source": [
        "Multi-dimension'larda da uygulanabilir."
      ]
    },
    {
      "cell_type": "code",
      "metadata": {
        "colab": {
          "base_uri": "https://localhost:8080/"
        },
        "id": "8NVx05KxO6iw",
        "outputId": "24c94dbc-f97e-4750-897c-bd3c80446028"
      },
      "source": [
        "a = np.random.randint(1,20, 20).reshape(4,5)\n",
        "# a'nın 5'ten büyük olduğu durumu sağlayan index bilgilerine erişelim:\n",
        "print(np.where(a>5))"
      ],
      "execution_count": null,
      "outputs": [
        {
          "output_type": "stream",
          "text": [
            "(array([0, 1, 1, 1, 2, 2, 2, 3, 3, 3]), array([4, 0, 1, 3, 0, 3, 4, 1, 2, 3]))\n"
          ],
          "name": "stdout"
        }
      ]
    },
    {
      "cell_type": "markdown",
      "metadata": {
        "id": "v7FezEllVN6x"
      },
      "source": [
        "**9)** ```np.transpose() :```"
      ]
    },
    {
      "cell_type": "markdown",
      "metadata": {
        "id": "8sHWOOEwCgW5"
      },
      "source": [
        "Bir matrisin aynı numaralı satırlarıyla sütunlarının yer değiştirmesiyle elde edilen yeni matrise, o matrisin transpozu (devriği) denir.\n",
        "\n",
        "![](https://1.bp.blogspot.com/-2McSwe8onWk/XtSk8AlWI3I/AAAAAAAAD7A/2Q-IZXlhX7ARjD1GrAdXdt_m13yhdUZVACK4BGAsYHg/transpose%2Bnumpy.png)"
      ]
    },
    {
      "cell_type": "code",
      "metadata": {
        "colab": {
          "base_uri": "https://localhost:8080/"
        },
        "id": "wJgTwo_QVUgB",
        "outputId": "a4ead94e-8e9b-445a-b08d-74296cf0487f"
      },
      "source": [
        "a = np.arange(1,11).reshape(5, 2)\n",
        "print(f\"a array'i : \\n{a}\\n\")\n",
        "print(f\"a array'inin transpozu : \\n{np.transpose(a)}\\n\")"
      ],
      "execution_count": null,
      "outputs": [
        {
          "output_type": "stream",
          "text": [
            "a array'i : \n",
            "[[ 1  2]\n",
            " [ 3  4]\n",
            " [ 5  6]\n",
            " [ 7  8]\n",
            " [ 9 10]]\n",
            "\n",
            "a array'inin transpozu : \n",
            "[[ 1  3  5  7  9]\n",
            " [ 2  4  6  8 10]]\n",
            "\n"
          ],
          "name": "stdout"
        }
      ]
    },
    {
      "cell_type": "markdown",
      "metadata": {
        "id": "WE2Ivgx5Vddw"
      },
      "source": [
        "**10)** ```np.repeat(a, repeats) :``` Belirtilen örüntünün tekrarlanarak array oluşturulmasını sağlar. a bir array'i temsil ederken repeats ise örüntünün nasıl olması gerektiğini belirtir."
      ]
    },
    {
      "cell_type": "code",
      "metadata": {
        "colab": {
          "base_uri": "https://localhost:8080/"
        },
        "id": "5K2xWDgLVeOV",
        "outputId": "4616e725-8d24-4504-8c78-f9f8b1863c1a"
      },
      "source": [
        "#3'lerden oluşan 4 kere tekrar eden array\n",
        "print(np.repeat(3, 4))\n",
        "print(\"\\n\")\n",
        "\n",
        "#X array'i tanımlayalım ve onun üzerinden işlem yapalım\n",
        "x = np.array([[1,2],[3,4]])\n",
        "print(f\"Orijinal X array'i : \\n{x}\\n\")\n",
        "\n",
        "#Tüm array'in iki kere tekrar etmesini istiyorum:\n",
        "print(np.repeat(x, 2))\n",
        "print(\"\\n\")\n",
        "\n",
        "#Tüm array'in 3 kere axis=1 düzleminde tekrar etmesini istiyorum\n",
        "print(np.repeat(x, 3, axis=1))\n",
        "print(\"\\n\")\n",
        "\n",
        "print(np.repeat(x, [1, 2], axis=0))"
      ],
      "execution_count": 14,
      "outputs": [
        {
          "output_type": "stream",
          "text": [
            "[3 3 3 3]\n",
            "\n",
            "\n",
            "Orijinal X array'i : \n",
            "[[1 2]\n",
            " [3 4]]\n",
            "\n",
            "[1 1 2 2 3 3 4 4]\n",
            "\n",
            "\n",
            "[[1 1 1 2 2 2]\n",
            " [3 3 3 4 4 4]]\n",
            "\n",
            "\n",
            "[[1 2]\n",
            " [3 4]\n",
            " [3 4]]\n"
          ],
          "name": "stdout"
        }
      ]
    },
    {
      "cell_type": "markdown",
      "metadata": {
        "id": "QZf2eD2FVnlX"
      },
      "source": [
        "**11)** ```np.histogram() :``` Array'i histogramda göstermeyi sağlar."
      ]
    },
    {
      "cell_type": "code",
      "metadata": {
        "id": "7wpbQXoGj-tU"
      },
      "source": [
        "import matplotlib.pyplot as plt"
      ],
      "execution_count": null,
      "outputs": []
    },
    {
      "cell_type": "code",
      "metadata": {
        "colab": {
          "base_uri": "https://localhost:8080/"
        },
        "id": "2EmA_-KyVoeK",
        "outputId": "89f6199f-1ef8-4bf3-fd83-dedfa6ea90f2"
      },
      "source": [
        "arr = np.random.randint(1, 51, 500)\n",
        "y, x = np.histogram(arr, bins=np.arange(51))\n",
        "fig, ax = plt.subplots()\n",
        "ax.plot(x[:-1], y)\n",
        "fig.show()"
      ],
      "execution_count": null,
      "outputs": [
        {
          "output_type": "display_data",
          "data": {
            "image/png": "[encoded data removed]",
            "text/plain": [
              "<Figure size 432x288 with 1 Axes>"
            ]
          },
          "metadata": {
            "tags": [],
            "needs_background": "light"
          }
        }
      ]
    },
    {
      "cell_type": "markdown",
      "metadata": {
        "id": "UElArYL4Vl5x"
      },
      "source": [
        "**12)** ```np.polyfit() :``` Genellikle lineer regresyon işlemleri için kullanılır. Verilen iki array'e göre yakın sonuçlar verir ve orantıyı koruyan yeni değerler elde edilmesini sağlar."
      ]
    },
    {
      "cell_type": "code",
      "metadata": {
        "colab": {
          "base_uri": "https://localhost:8080/"
        },
        "id": "WJI3m1s-Vmq2",
        "outputId": "df23f52e-6d74-4142-fe6f-59b8e8c019ec"
      },
      "source": [
        "import warnings\n",
        "x = np.array([0.0, 1.0, 2.0, 3.0,  4.0,  5.0])\n",
        "y = np.array([0.0, 0.8, 0.9, 0.1, -0.8, -1.0])\n",
        "z = np.polyfit(x, y, 3)\n",
        "z"
      ],
      "execution_count": null,
      "outputs": [
        {
          "output_type": "execute_result",
          "data": {
            "text/plain": [
              "array([ 0.08703704, -0.81349206,  1.69312169, -0.03968254])"
            ]
          },
          "metadata": {
            "tags": []
          },
          "execution_count": 59
        }
      ]
    },
    {
      "cell_type": "code",
      "metadata": {
        "colab": {
          "base_uri": "https://localhost:8080/"
        },
        "id": "RzPZaInukSbZ",
        "outputId": "c09e8504-efad-478c-8459-3f9597b7d7d9"
      },
      "source": [
        "import matplotlib.pyplot as plt\n",
        "\n",
        "p = np.poly1d(z)\n",
        "\n",
        "with warnings.catch_warnings():\n",
        "    warnings.simplefilter('ignore', np.RankWarning)\n",
        "    p30 = np.poly1d(np.polyfit(x, y, 30))\n",
        "\n",
        "xp = np.linspace(-2, 6, 100)\n",
        "_ = plt.plot(x, y, '.', xp, p(xp), '-', xp, p30(xp), '--')\n",
        "plt.ylim(-2,2)\n",
        "plt.show()"
      ],
      "execution_count": null,
      "outputs": [
        {
          "output_type": "display_data",
          "data": {
            "image/png": "[encoded data removed]",
            "text/plain": [
              "<Figure size 432x288 with 1 Axes>"
            ]
          },
          "metadata": {
            "tags": [],
            "needs_background": "light"
          }
        }
      ]
    },
    {
      "cell_type": "markdown",
      "metadata": {
        "id": "qphY8TUTV1zT"
      },
      "source": [
        "**13)** ```np.savetxt() :```\n",
        "\n",
        "Elimizdeki array'i bir txt'ye kaydedebilmemizi sağlar."
      ]
    },
    {
      "cell_type": "code",
      "metadata": {
        "colab": {
          "base_uri": "https://localhost:8080/"
        },
        "id": "yQ27tQ2CV2j8",
        "outputId": "2375cb03-3002-4f05-f85c-a744a7366de8"
      },
      "source": [
        "import numpy as np\n",
        "  \n",
        "x = np.arange(0, 10, 1) # 0'dan 10'a kadar değerleri 1 1 artacak şekilde array oluştur.\n",
        "print(f\"X array'i : \\n{x}\\n\")\n",
        "  \n",
        "# X array'ini önce yazdıralım sonra okuyalım:\n",
        "with open('/content/saved_numpy_array.txt', 'w') as s:\n",
        "   np.savetxt('/content/saved_numpt_array.txt', x, delimiter =', ')   \n",
        "with open(\"/content/saved_numpy_array.txt\", 'r') as f :\n",
        "  print(f.read())"
      ],
      "execution_count": null,
      "outputs": [
        {
          "output_type": "stream",
          "text": [
            "X array'i : \n",
            "[0 1 2 3 4 5 6 7 8 9]\n",
            "\n",
            "0.000000000000000000e+00\n",
            "1.000000000000000000e+00\n",
            "2.000000000000000000e+00\n",
            "3.000000000000000000e+00\n",
            "4.000000000000000000e+00\n",
            "5.000000000000000000e+00\n",
            "6.000000000000000000e+00\n",
            "7.000000000000000000e+00\n",
            "8.000000000000000000e+00\n",
            "9.000000000000000000e+00\n",
            "\n"
          ],
          "name": "stdout"
        }
      ]
    },
    {
      "cell_type": "markdown",
      "metadata": {
        "id": "GR-breHw-aYF"
      },
      "source": [
        "**13)** ```np.flatten() :```\n",
        "Elimizdeki array'i tek boyuta indirgemek için kullanılır:\n",
        "\n",
        "![](https://www.w3resource.com/w3r_images/numpy-manipulation-ndarray-flatten-function-image-a.png)"
      ]
    },
    {
      "cell_type": "code",
      "metadata": {
        "colab": {
          "base_uri": "https://localhost:8080/"
        },
        "id": "ehiepuD0-qkA",
        "outputId": "b3da748e-9658-4ccb-f160-a4ffb53e2ff0"
      },
      "source": [
        "arr = np.array([[6,7], [8,9]])\n",
        "print(arr.flatten())"
      ],
      "execution_count": null,
      "outputs": [
        {
          "output_type": "stream",
          "text": [
            "[6 7 8 9]\n"
          ],
          "name": "stdout"
        }
      ]
    },
    {
      "cell_type": "markdown",
      "metadata": {
        "id": "F2mMNDk8QVz6"
      },
      "source": [
        "KAYNAKÇALAR :\n",
        "*    https://analyticsindiamag.com/the-most-important-numpy-functions-you-should-know-when-learning-python/\n",
        "\n",
        "*    https://towardsdatascience.com/12-amazing-pandas-numpy-functions-22e5671a45b8\n",
        "\n",
        "*    https://medium.com/@sergioalves94/5-numpy-functions-that-you-should-know-49e9fdbf2b18\n",
        "\n",
        "*    https://numpy.org/doc\n",
        "\n",
        "*    https://www.w3resource.com/numpy/index.php"
      ]
    },
    {
      "cell_type": "markdown",
      "metadata": {
        "id": "gCPz_nifHVsi"
      },
      "source": [
        "## Bana Ulaşın!!\n",
        "\n",
        "[![](https://user-images.githubusercontent.com/56072259/121079707-28be5d00-c7e3-11eb-9666-9acb3dd9526a.png)](https://www.linkedin.com/in/semih-gulum/)\n",
        "[![](https://user-images.githubusercontent.com/56072259/121079953-7c30ab00-c7e3-11eb-8e4d-506fabc530a5.png)](mailto:sgulum98@gmail.com)\n",
        "[![](https://user-images.githubusercontent.com/56072259/121080373-0416b500-c7e4-11eb-833c-e6abe08efea0.png)](https://semihstp.github.io/)"
      ]
    }
  ]
}