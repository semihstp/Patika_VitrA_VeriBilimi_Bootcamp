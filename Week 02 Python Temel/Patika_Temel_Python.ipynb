{
  "nbformat": 4,
  "nbformat_minor": 0,
  "metadata": {
    "colab": {
      "name": "PAtika_Temel_Python.ipynb",
      "provenance": [],
      "collapsed_sections": []
    },
    "kernelspec": {
      "name": "python3",
      "display_name": "Python 3"
    },
    "language_info": {
      "name": "python"
    }
  },
  "cells": [
    {
      "cell_type": "markdown",
      "metadata": {
        "id": "0bdzSUGe4kwe"
      },
      "source": [
        "Bu colab dosyası Vitra Veri Bilimi Bootcamp'inin 2. haftası olan, Patika'nın \"Python Temel\" eğitiminin bitirme projesi ödevidir."
      ]
    },
    {
      "cell_type": "markdown",
      "metadata": {
        "id": "Rw3og0r_4lPs"
      },
      "source": [
        "1) Flatten a list:"
      ]
    },
    {
      "cell_type": "code",
      "metadata": {
        "id": "XeMzQBWI4ou1"
      },
      "source": [
        "# Gerekli kütüphanelerin import edilmesi\n",
        "from pandas.core.common import flatten"
      ],
      "execution_count": null,
      "outputs": []
    },
    {
      "cell_type": "code",
      "metadata": {
        "colab": {
          "base_uri": "https://localhost:8080/"
        },
        "id": "vkhD9dMT4U5I",
        "outputId": "2272344f-2e5d-4404-bd47-2a4e8e3d77aa"
      },
      "source": [
        "# Listenin tanımlanması:\n",
        "liste = [[1,'a',['cat'],2],[[[3]],'dog'],4,5]\n",
        "\n",
        "# Eldeli listeyi list of list'ten kurtarıp altkümesiz bir eleman yapmak için:\n",
        "new_liste = list(flatten(liste))\n",
        "print(new_liste)"
      ],
      "execution_count": null,
      "outputs": [
        {
          "output_type": "stream",
          "text": [
            "[1, 'a', 'cat', 2, 3, 'dog', 4, 5]\n"
          ],
          "name": "stdout"
        }
      ]
    },
    {
      "cell_type": "markdown",
      "metadata": {
        "id": "yS7jBaLU5UkP"
      },
      "source": [
        "2) Reverse a list:"
      ]
    },
    {
      "cell_type": "code",
      "metadata": {
        "id": "wuAq8f6142Yp"
      },
      "source": [
        "# Listenin tanımlanması:\n",
        "liste = [[1, 'a', ['cat'] ,2], [[[3]], 'dog'], 4, 5, [[[1, 2]]]]"
      ],
      "execution_count": null,
      "outputs": []
    },
    {
      "cell_type": "code",
      "metadata": {
        "id": "qIkZWwF_5nJQ"
      },
      "source": [
        "# Tersine çevirmeyi sağlayan fonksiyon:\n",
        "def tersine_cevir(liste):\n",
        "  \"\"\"\n",
        "  Bir liste verildiğinde, list of list yapsısı da dagil tüm elemanları tesine çevirir.\n",
        "  >>> Input : [[1,'a',['cat'],2],[[[3]],'dog'],4,5, [[[1, 2]]]]\n",
        "  >>> Output : [[[[2, 1]]], 5, 4, ['dog', [[3]]], [2, ['cat'], 'a', 1]]\n",
        "  tersine_liste : eleman sırasını ters yaptığımızda elemanların içine atılacağı liste\n",
        "  \"\"\"\n",
        "  \n",
        "  tersine_liste = []\n",
        "  \n",
        "  for eleman in liste:\n",
        "    # isinstance ile alt kümesi olup olmadığını kontrol ediyoruz. True veya False döndürmekte.\n",
        "    if isinstance(eleman, list):\n",
        "      #Eğer varsa fonksiyonu tekrar çağır. (Recursive bir yapı)\n",
        "      tersine_liste.append(tersine_cevir(eleman))\n",
        "    else:\n",
        "      # Eğer yoksa elemanı listeye ekle.\n",
        "      tersine_liste.append(eleman)\n",
        "  # Alt kümeler kendi içinde değiştikten sonra tüm listeyi tersine çevir ve return et.\n",
        "  tersine_liste.reverse()\n",
        "  return tersine_liste"
      ],
      "execution_count": null,
      "outputs": []
    },
    {
      "cell_type": "code",
      "metadata": {
        "colab": {
          "base_uri": "https://localhost:8080/"
        },
        "id": "5EzHzzLJ5xb6",
        "outputId": "de629f57-1a16-4741-8e67-a5a43a18b991"
      },
      "source": [
        "liste = tersine_cevir(liste)\n",
        "print(liste)"
      ],
      "execution_count": null,
      "outputs": [
        {
          "output_type": "stream",
          "text": [
            "[[1, 'a', ['cat'], 2], [[[3]], 'dog'], 4, 5, [[[1, 2]]]]\n"
          ],
          "name": "stdout"
        }
      ]
    }
  ]
}